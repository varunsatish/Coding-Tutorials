{
 "cells": [
  {
   "cell_type": "markdown",
   "metadata": {},
   "source": [
    "# Basics of Programming II"
   ]
  },
  {
   "cell_type": "markdown",
   "metadata": {},
   "source": [
    "## 2.1 Functions, For Loops and If Statements"
   ]
  },
  {
   "cell_type": "markdown",
   "metadata": {},
   "source": [
    "Functions, 'for' loops and 'if' statements are by far the most ubiquitous and useful commands in your programming arsenal. They allow us to solve more complicated (and interesting) problems by creating scripts that are both recursive and iterative. They also allow us to make our code more succinct, generalisable and efficient."
   ]
  },
  {
   "cell_type": "markdown",
   "metadata": {},
   "source": [
    "## Functions\n",
    "\n",
    "A function is a piece of resuable code that can be used to perform some sort of action. In Python there are 'built in' functions -- which we have seen above, but there are also *user-defined functions*. These are functions that we write ourselves. Functions in programming are similar to mathematical functions, you take a set of inputs, pass them through the function and get some outputs.\n"
   ]
  },
  {
   "cell_type": "markdown",
   "metadata": {},
   "source": [
    "![For Loop](https://github.com/varunsatish/Coding-Tutorials/blob/master/images/function_dia.jpg?raw=true)"
   ]
  },
  {
   "cell_type": "markdown",
   "metadata": {},
   "source": [
    "In order to use a function, we must define it with the call `def`, give it a name, and define its inputs.\n",
    "\n",
    "**NOTE**: When I use the function in practice, my input variable does not have to be the same name as what I specify when I define the function."
   ]
  },
  {
   "cell_type": "code",
   "execution_count": 1,
   "metadata": {},
   "outputs": [],
   "source": [
    "def my_function(x):  # We need to specify a function handle, and some arguments\n",
    "    y = x**2  # Raises x to the power 2\n",
    "    return (y)"
   ]
  },
  {
   "cell_type": "markdown",
   "metadata": {},
   "source": [
    "This function takes in some object ```x``` as an input, and squares it. It is clear from this then that the object ```x``` must be an integer or float. "
   ]
  },
  {
   "cell_type": "code",
   "execution_count": 4,
   "metadata": {},
   "outputs": [
    {
     "data": {
      "text/plain": [
       "25"
      ]
     },
     "execution_count": 4,
     "metadata": {},
     "output_type": "execute_result"
    }
   ],
   "source": [
    "my_function(5)"
   ]
  },
  {
   "cell_type": "markdown",
   "metadata": {},
   "source": [
    "We can have functions that take in multiple inputs"
   ]
  },
  {
   "cell_type": "code",
   "execution_count": 23,
   "metadata": {},
   "outputs": [],
   "source": [
    "def other_function(x , y):\n",
    "    z = x*y + y**2 + 3 # ** takes a power\n",
    "    return (z)"
   ]
  },
  {
   "cell_type": "markdown",
   "metadata": {},
   "source": [
    "There are two ways to call this function, either I can keep the ordering that has been specified in the function definition, or I can assign values to the inputs directly"
   ]
  },
  {
   "cell_type": "code",
   "execution_count": 26,
   "metadata": {},
   "outputs": [
    {
     "data": {
      "text/plain": [
       "120"
      ]
     },
     "execution_count": 26,
     "metadata": {},
     "output_type": "execute_result"
    }
   ],
   "source": [
    "number_1 = 4\n",
    "number_2 = 9\n",
    "\n",
    "#ordering kept the same \n",
    "\n",
    "other_function(number_1, number_2)\n",
    "\n",
    "#inputs specified\n",
    "\n",
    "other_function(y = number_2, x = number_1)\n"
   ]
  },
  {
   "cell_type": "markdown",
   "metadata": {},
   "source": [
    "### Why are functions useful?\n",
    "\n",
    "Functions allow us to write code that is compact and efficient. If you are writing code that follows a structured, repeated pattern, it is much easier and much more efficient to define functions. "
   ]
  },
  {
   "cell_type": "markdown",
   "metadata": {},
   "source": [
    "## For Loops\n",
    "\n",
    "It is hard to understate the importance of For Loops in any programming language. They allow us to create iterative blocks of code, meaning we can 'cycle' through elements of an object. Let's suppose that we are working with a list first. **These are fundamental**."
   ]
  },
  {
   "cell_type": "markdown",
   "metadata": {},
   "source": [
    "![For Loop](https://github.com/varunsatish/Coding-Tutorials/blob/master/images/for_loop.jpg?raw=true)"
   ]
  },
  {
   "cell_type": "code",
   "execution_count": 7,
   "metadata": {},
   "outputs": [
    {
     "name": "stdout",
     "output_type": "stream",
     "text": [
      "[1, 2, 3, 4, 5]\n"
     ]
    }
   ],
   "source": [
    "numbers = [1,2,3,4,5]\n",
    "print(numbers)"
   ]
  },
  {
   "cell_type": "code",
   "execution_count": 8,
   "metadata": {},
   "outputs": [],
   "source": [
    "def complex_function(x):\n",
    "    y = x + x**5 + (3*x - 5)**2\n",
    "    return(y)"
   ]
  },
  {
   "cell_type": "code",
   "execution_count": 9,
   "metadata": {},
   "outputs": [
    {
     "name": "stdout",
     "output_type": "stream",
     "text": [
      "6\n",
      "35\n",
      "262\n",
      "1077\n",
      "3230\n"
     ]
    }
   ],
   "source": [
    "for number in numbers:\n",
    "    out = complex_function(number)\n",
    "    print(out)"
   ]
  },
  {
   "cell_type": "code",
   "execution_count": 10,
   "metadata": {},
   "outputs": [
    {
     "name": "stdout",
     "output_type": "stream",
     "text": [
      "[6, 35, 262, 1077, 3230]\n"
     ]
    }
   ],
   "source": [
    "out_list = []\n",
    "\n",
    "for x in numbers: #note that the choice of index (in general) does not matter, there are some choices which cause problems but you will recieve an error message  \n",
    "    out = complex_function(x)\n",
    "    out_list.append(out)\n",
    "    \n",
    "print(out_list)\n",
    "                    "
   ]
  },
  {
   "cell_type": "markdown",
   "metadata": {},
   "source": [
    "### Why are for loops useful?\n",
    "\n",
    "For loops allow us to write code that is *recursive*. This means that for loops allow us to write code that repeats many times. This is useful for many computational exercises, but also things such as data cleaning."
   ]
  },
  {
   "cell_type": "markdown",
   "metadata": {},
   "source": [
    "## A (kind of important) note about indexing\n",
    "\n",
    "We use indexes in order to keep track of data in a convenient fashion. The example most of us will be most familar with is the idea of indexing a variable $x$ with respect to the an individual $i$, this is where we get the $x_i$ notation from, the quantity of $x$ belonging to the $i^{th}$ individual. \n",
    "\n",
    "We can do a similar thing with programming. When we initialise a for loop we need to tell the for loop which objects it must operate on. When I have an initialisation that looks like `for <element> in <list>:`, I am telling the loop that I want to operate on each object within the list. \n",
    "\n",
    "Lets say that we have a list that looks like this: `friends = ['Lea', 'Tommy', 'Pat', 'Chris']`. We have seen already that we can 'index' a list, meaning I can draw out the $i^{th}$ element of the list. `friends[1] = 'Tommy'`. Depending on what we are trying to achieve, we may want to iterate over each **object** within the list or we may want to iterate over each **index** within the list. What does this mean?\n",
    "\n",
    "Suppose I want to print each element in the list, I can write one piece of code that will look like:\n",
    "\n",
    "`for name in friends:\n",
    "    print(name) `\n",
    "\n",
    "This is iterating over each object within the list, note that it has nothing to do with the indexes. It simply prints each object. \n",
    "\n",
    "We could also specify the for loop in the following way\n",
    "\n",
    "`for i in range(0, len(friends)):\n",
    "    print(friends[i])`\n",
    "    \n",
    "Here, we are not iterating over each object in the list, we are iterating over a set of numbers which we can use to index objects within the list.\n",
    "\n",
    "Which one to use? It doesn't really matter, it's easier to use the first way, but if some of you are familiar with MATLAB the second way might be a little easier. Also, the second way only works with lists, there are objects in Python which cannot be iterated over, however there are some applications where you might just need to iterate over numbers in order to select variables by their indicies.\n",
    "\n"
   ]
  },
  {
   "cell_type": "markdown",
   "metadata": {},
   "source": [
    "## If Statements\n",
    "\n",
    "If statements act like a yes/no statement. If a condition is met, we can program the script to carry out an action. We can also specify what happens if the statement does not hold, we can also combine them with for loops and functions we have defined ourselves."
   ]
  },
  {
   "cell_type": "markdown",
   "metadata": {},
   "source": [
    "![Boolean Logic](https://github.com/varunsatish/Coding-Tutorials/blob/master/images/boolean_logic.png?raw=true)"
   ]
  },
  {
   "cell_type": "code",
   "execution_count": null,
   "metadata": {},
   "outputs": [],
   "source": [
    "numbers = [0,1,2,3,4,5]\n",
    "\n",
    "for element in numbers:\n",
    "    if element == 2: # == is a boolean logical\n",
    "        print('Great')\n",
    "    else:\n",
    "        print('Not Great')"
   ]
  },
  {
   "cell_type": "markdown",
   "metadata": {},
   "source": [
    "## Storing Data: Appending a List\n",
    "\n",
    "Lists are extremely useful for storing unstructured data. One of the most useful methods of storing data is appending an empty list. You can think of this intuitivley as creating an empty box and iterativley storing variables in the box. In practice, this method works really well with for loops. \n",
    "\n",
    "The algorithm looks like this:"
   ]
  },
  {
   "cell_type": "markdown",
   "metadata": {},
   "source": [
    "![append list](https://github.com/varunsatish/Coding-Tutorials/blob/master/images/app_list.jpg?raw=true)"
   ]
  },
  {
   "cell_type": "markdown",
   "metadata": {},
   "source": [
    "This is an example of the code:"
   ]
  },
  {
   "cell_type": "code",
   "execution_count": 3,
   "metadata": {},
   "outputs": [
    {
     "name": "stdout",
     "output_type": "stream",
     "text": [
      "[1, 4, 9, 16, 25]\n"
     ]
    }
   ],
   "source": [
    "output_list = [] #creating an empty list\n",
    "\n",
    "inputs = [1,2,3,4,5]\n",
    "\n",
    "for i in range(0, len(inputs)):\n",
    "    output = inputs[i]**(2)\n",
    "    output_list.append(output)\n",
    "    \n",
    "print(output_list)"
   ]
  },
  {
   "cell_type": "markdown",
   "metadata": {},
   "source": [
    "## Exercise 2.1"
   ]
  },
  {
   "cell_type": "markdown",
   "metadata": {},
   "source": [
    "Suppose we are conducting linear regression in the univariate case, that is our model looks like this: \n",
    "\n",
    "$$y = x_i\\beta + u_i, \\quad u_i \\sim N(0, \\sigma^2)$$\n",
    "\n",
    "Where $x_i$ is a a regressor capturing the $i^{th}$ individuals age, and $u_i$ is the error term. You should hopefully be familiar with something that looks like this from your Econometrics/Statistics classes.\n",
    "\n",
    "**Question 1**: We know the formula for $\\hat{y}$ is as follows:\n",
    "\n",
    "$$\\hat{y} = x_i \\hat{\\beta}$$\n",
    "\n",
    "Now, suppose we have estimate $\\hat{\\beta}$ to be 0.43. Define a function that would predict $\\hat{y}$ given some$ x_i$\n",
    "\n",
    "**Question 2**: Using a for loop, construct a list of $\\hat{y}$ values given a list of `x` which looks like `x = [1, -5, 9, 4, 1, -3]`.\n",
    "\n",
    "**Question 3**: For each  $\\hat{y_i}$, apply the following and store the results in a list\n",
    "\n",
    "![question](https://github.com/varunsatish/Coding-Tutorials/blob/master/images/2_1q3.jpg?raw=true)\n",
    "\n",
    "\n",
    "\n",
    "\n",
    "\n",
    "**Advanced**: We know that the formula for OLS estimate of $\\beta$ is \n",
    "$$\\hat{\\beta} = \\frac{\\sum_{i = 1}^n (x_i - \\bar{x})(y_i - \\bar{y})}{\\sum_{i = 1}^n (x_i - \\bar{x})^2}$$\n",
    "\n",
    "\n",
    "\n",
    "\n",
    "Define a function that will calculate $\\hat{\\beta}$ for a given list of $x = [x_1, x_2 \\dots x_n]$ and $y = [y_1, y_2 \\dots y_n]$. **Hint**: Try to think about what we are actually doing if we were to do this by hand, we calculate $(x_1 - \\bar{x})(y_1 - \\bar{y}), (x_2 - \\bar{x})(y_2 - \\bar{y}) \\dots (x_n - \\bar{x})(y_n - \\bar{y})$ and $(x_1 - \\bar{x})^2, (x_2 - \\bar{x})^2 \\dots (x_n - \\bar{x})^2$ then take sums and divide."
   ]
  },
  {
   "cell_type": "code",
   "execution_count": null,
   "metadata": {},
   "outputs": [],
   "source": [
    "# Solution.\n",
    "\n",
    "# Question one.\n",
    "\n",
    "def compute_y_hat(beta, x):\n",
    "    y_hat = beta*x\n",
    "    return(y_hat)\n",
    "\n",
    "# Question two.\n",
    "\n",
    "x = [1. -5, 9, 4, 1, -3]\n",
    "y = []\n",
    "\n",
    "for x_i in x:\n",
    "    y.append(compute_y_hat(0.43, x_i)) \n",
    "    \n",
    "    \n",
    "\n",
    "\n",
    "# Advanced.\n",
    "\n",
    "# Numpy is a package that allows for mathematical computation.\n",
    "import numpy as np\n",
    "\n",
    "def beta_hat(x,y):\n",
    "    # Finding the means -- we use a package known as numpy, typically read in as np.\n",
    "    x_bar = np.mean(x)\n",
    "    y_bar = np.mean(y)\n",
    "    \n",
    "    # Creating empty lists so that we can store individual numerators and denominators.\n",
    "    numerator_list = []\n",
    "    denominator_list = []\n",
    "    for i in range(len(x)):\n",
    "        # For each individual calculate the numerator\n",
    "        numerator = (x[i] - x_bar)*(y[i] - y_bar)\n",
    "        # For each individual calculate the denominator\n",
    "        denominator = (x[i] - x_bar)**2\n",
    "        # Store both the numerator and denominator in lists\n",
    "        numerator_list.append(numerator)\n",
    "        denominator_list.append(denominator)\n",
    "        # Take the sum of all the individual numerators and denominators to find beta hat\n",
    "    b = sum(numerator_list)/(denominator_list)\n",
    "    # Return the output, this is outside of the loop\n",
    "    return(b)\n",
    "\n",
    "        \n",
    "        "
   ]
  }
 ],
 "metadata": {
  "kernelspec": {
   "display_name": "Python 3",
   "language": "python",
   "name": "python3"
  },
  "language_info": {
   "codemirror_mode": {
    "name": "ipython",
    "version": 3
   },
   "file_extension": ".py",
   "mimetype": "text/x-python",
   "name": "python",
   "nbconvert_exporter": "python",
   "pygments_lexer": "ipython3",
   "version": "3.7.2"
  }
 },
 "nbformat": 4,
 "nbformat_minor": 2
}
