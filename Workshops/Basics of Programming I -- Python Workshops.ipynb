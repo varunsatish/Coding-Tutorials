{
 "cells": [
  {
   "cell_type": "markdown",
   "metadata": {},
   "source": [
    "# Basics of Programming I"
   ]
  },
  {
   "cell_type": "markdown",
   "metadata": {},
   "source": [
    "## 1.1 Data Types and Data Structures"
   ]
  },
  {
   "cell_type": "markdown",
   "metadata": {},
   "source": [
    "## What is a variable?\n",
    "\n",
    "In programming, a variable is an object that we use to write code. Variables store information, and we can change what information these variables hold. We can assign names to variables, which makes life a lot easier when we are writing complicated code.\n",
    "\n",
    "For example, all of you should be familar with variables from your Econometrics classes. Suppose I observe an individual and I am interested in their age, perhaps I want to do some calculations relating to their age. Well, I can define a variable named `age`, and I can assign some value to it.\n",
    "\n",
    "In very very simple terms, a variable is an object we use to 'remember stuff', whether that be the output of some calculation, or simply a name that is more convenient."
   ]
  },
  {
   "cell_type": "markdown",
   "metadata": {},
   "source": [
    "![Variable](https://github.com/varunsatish/Coding-Tutorials/blob/master/images/variable_diagram.jpg?raw=true) "
   ]
  },
  {
   "cell_type": "markdown",
   "metadata": {},
   "source": [
    "Suppose I want to do some calculations based around the ages of a group of people, I can make use of variables to make that much easier"
   ]
  },
  {
   "cell_type": "markdown",
   "metadata": {},
   "source": [
    "![People](https://github.com/varunsatish/Coding-Tutorials/blob/master/images/1_1_ppl_diagram.jpg?raw=true) "
   ]
  },
  {
   "cell_type": "markdown",
   "metadata": {},
   "source": [
    "Another way to view this is similar to basic algebra. If you have a variable `x=3` for example, whenever you refer to `x`, you are in fact referring to the number 3. If you let `x=10`, when referring to `x`, you are referring to the number 10. The same general principal applies with variables in programming."
   ]
  },
  {
   "cell_type": "code",
   "execution_count": 1,
   "metadata": {},
   "outputs": [],
   "source": [
    "pat = 21\n",
    "lea = 16\n",
    "tommy = 48\n",
    "varun = 22\n",
    "chris = 28"
   ]
  },
  {
   "cell_type": "markdown",
   "metadata": {},
   "source": [
    "I can 'run' a block of code by using: <kbd>shift</kbd>+<kbd>enter</kbd>. This will execute the code contained within that block"
   ]
  },
  {
   "cell_type": "markdown",
   "metadata": {},
   "source": [
    "So now, we can see what value does each variable take on by using the `print` command alongside the variable name into the cell and running the cell. The `print` command simply shows what the value of the variable is."
   ]
  },
  {
   "cell_type": "code",
   "execution_count": 3,
   "metadata": {},
   "outputs": [
    {
     "data": {
      "text/plain": [
       "22"
      ]
     },
     "execution_count": 3,
     "metadata": {},
     "output_type": "execute_result"
    }
   ],
   "source": [
    "print(varun)"
   ]
  },
  {
   "cell_type": "markdown",
   "metadata": {},
   "source": [
    "You will notice in the cell above, we have `In [2]` and `Out[2]`. The `In` refers to code that we typed in, the `Out` refers to the output of the code, and the number in `[]` just keeps count of what number input/output this is."
   ]
  },
  {
   "cell_type": "markdown",
   "metadata": {},
   "source": [
    "### Some common errors: \n",
    "1. Using capital letters\n",
    "2. Spaces\n",
    "3. Numbers"
   ]
  },
  {
   "cell_type": "markdown",
   "metadata": {},
   "source": [
    "## Numbers: Floats and Integers\n",
    "\n",
    "The data type we have just been referring to are known as Integers. These are one of the most fundamental data types in Python. Integers are just whole numbers. In Python, as with in many other languages, we are able to assign values to variables that we define, and we can perform mathematical operations on or using them."
   ]
  },
  {
   "cell_type": "code",
   "execution_count": 5,
   "metadata": {},
   "outputs": [
    {
     "name": "stdout",
     "output_type": "stream",
     "text": [
      "107\n"
     ]
    }
   ],
   "source": [
    "total_age = pat + lea + tommy + varun # summing up ages\n",
    "print(total_age) # Printing ages"
   ]
  },
  {
   "cell_type": "markdown",
   "metadata": {},
   "source": [
    "Likewise, we can perform subtraction. Note that we can either see the result directly or assign the result of the calculation to a variable."
   ]
  },
  {
   "cell_type": "code",
   "execution_count": 4,
   "metadata": {},
   "outputs": [
    {
     "data": {
      "text/plain": [
       "5"
      ]
     },
     "execution_count": 4,
     "metadata": {},
     "output_type": "execute_result"
    }
   ],
   "source": [
    "pat - lea"
   ]
  },
  {
   "cell_type": "code",
   "execution_count": 5,
   "metadata": {},
   "outputs": [
    {
     "data": {
      "text/plain": [
       "5"
      ]
     },
     "execution_count": 5,
     "metadata": {},
     "output_type": "execute_result"
    }
   ],
   "source": [
    "result = pat - lea\n",
    "result"
   ]
  },
  {
   "cell_type": "markdown",
   "metadata": {},
   "source": [
    "***NOTE:*** It is really important that you remember to 'comment' on your code. In Python, you can use `#` before something you type in order to write a section of code that does not 'run' when you run the code block. If you don't comment you will have absolutely no idea what you were talking about when you go back and check your code -- especially when your code gets complicated."
   ]
  },
  {
   "cell_type": "markdown",
   "metadata": {},
   "source": [
    "Additionally, division is carried out by `/` whilst multiplication is `*`. Raising to the power is `**`."
   ]
  },
  {
   "cell_type": "code",
   "execution_count": 12,
   "metadata": {},
   "outputs": [
    {
     "name": "stdout",
     "output_type": "stream",
     "text": [
      "5.0\n",
      "50\n",
      "4\n"
     ]
    }
   ],
   "source": [
    "print(10/2)\n",
    "print(10*5)\n",
    "print(2**2)"
   ]
  },
  {
   "cell_type": "markdown",
   "metadata": {},
   "source": [
    "One final thing to note is that we don't need to keep defining new variables, once we have defined a variable it has been 'remembered'. Now, unlike other programs that you may have used, for example STATA; there is no easy to use GUI to track which variables have been created and so forth, sometimes you can define a variable, delete the code, and if you haven't restarted the kernel, the computer will still remember it. "
   ]
  },
  {
   "cell_type": "markdown",
   "metadata": {},
   "source": [
    "## Words: Strings\n",
    "\n",
    "Strings are an object that are *generally* used to represent text information. In the same way that we can assign an integer to a variable ```x```, we can do the same with strings. When we are working with strings, it is important to remember to use the quotation marks `'` or `\"`."
   ]
  },
  {
   "cell_type": "code",
   "execution_count": 6,
   "metadata": {},
   "outputs": [
    {
     "name": "stdout",
     "output_type": "stream",
     "text": [
      "Whiskers\n",
      "Bow wow\n"
     ]
    }
   ],
   "source": [
    "cat_name = \"Whiskers\"\n",
    "dog_name = \"Bow wow\"\n",
    "print(cat_name)\n",
    "print(dog_name)"
   ]
  },
  {
   "cell_type": "markdown",
   "metadata": {},
   "source": [
    "We can also combine variables alongside string using the `+` operator."
   ]
  },
  {
   "cell_type": "code",
   "execution_count": 8,
   "metadata": {},
   "outputs": [
    {
     "name": "stdout",
     "output_type": "stream",
     "text": [
      "I choose you Pikachu!\n"
     ]
    }
   ],
   "source": [
    "pokemon_one = \"Pikachu\"\n",
    "print(\"I choose you \" + pokemon_one + \"!\")"
   ]
  },
  {
   "cell_type": "markdown",
   "metadata": {},
   "source": [
    "We can expand this even further."
   ]
  },
  {
   "cell_type": "code",
   "execution_count": 9,
   "metadata": {},
   "outputs": [
    {
     "name": "stdout",
     "output_type": "stream",
     "text": [
      "I choose you Pikachu and Eevee!\n"
     ]
    }
   ],
   "source": [
    "pokemon_two = \"Eevee\"\n",
    "print(\"I choose you \" + pokemon_one + \" and \" + pokemon_two + \"!\")"
   ]
  },
  {
   "cell_type": "markdown",
   "metadata": {},
   "source": [
    "**Extension**: You may notice that printing these variables alongside the `+` operator can get quite cumbersome. Hence, in Python, we have `f-strings` to simplify code and make it easier to read. We put an `f` (for format) at the front of the string alongside `{}` for variables."
   ]
  },
  {
   "cell_type": "code",
   "execution_count": 10,
   "metadata": {},
   "outputs": [
    {
     "name": "stdout",
     "output_type": "stream",
     "text": [
      "I choose you Pikachu and Eevee!\n"
     ]
    }
   ],
   "source": [
    "print(f\"I choose you {pokemon_one} and {pokemon_two}!\")"
   ]
  },
  {
   "cell_type": "markdown",
   "metadata": {},
   "source": [
    "Strings are **NOT** treated the same way as integers. For example, `apple = 5` is treated differently to `apple = '5'`, we **cannot perform** numerical calculations using strings. "
   ]
  },
  {
   "cell_type": "code",
   "execution_count": 11,
   "metadata": {},
   "outputs": [
    {
     "name": "stdout",
     "output_type": "stream",
     "text": [
      "<class 'int'>\n",
      "<class 'str'>\n"
     ]
    }
   ],
   "source": [
    "apple = 5\n",
    "print(type(apple))\n",
    "apple = '5'\n",
    "print(type(apple))"
   ]
  },
  {
   "cell_type": "markdown",
   "metadata": {},
   "source": [
    "Here, we can see that in the first case, apple is of type integer whilst in the second case, it is of type string. Now let us try out doing calculations on strings."
   ]
  },
  {
   "cell_type": "code",
   "execution_count": 13,
   "metadata": {},
   "outputs": [
    {
     "name": "stdout",
     "output_type": "stream",
     "text": [
      "1.0\n"
     ]
    }
   ],
   "source": [
    "age = 5\n",
    "print(age/5)"
   ]
  },
  {
   "cell_type": "code",
   "execution_count": 14,
   "metadata": {},
   "outputs": [
    {
     "ename": "TypeError",
     "evalue": "unsupported operand type(s) for /: 'str' and 'int'",
     "output_type": "error",
     "traceback": [
      "\u001b[0;31m---------------------------------------------------------------------------\u001b[0m",
      "\u001b[0;31mTypeError\u001b[0m                                 Traceback (most recent call last)",
      "\u001b[0;32m<ipython-input-14-3f817e28027d>\u001b[0m in \u001b[0;36m<module>\u001b[0;34m()\u001b[0m\n\u001b[1;32m      1\u001b[0m \u001b[0;31m# An error will occur here.\u001b[0m\u001b[0;34m\u001b[0m\u001b[0;34m\u001b[0m\u001b[0m\n\u001b[1;32m      2\u001b[0m \u001b[0mdog_age\u001b[0m \u001b[0;34m=\u001b[0m \u001b[0;34m'10'\u001b[0m\u001b[0;34m\u001b[0m\u001b[0m\n\u001b[0;32m----> 3\u001b[0;31m \u001b[0mprint\u001b[0m\u001b[0;34m(\u001b[0m\u001b[0mdog_age\u001b[0m\u001b[0;34m/\u001b[0m\u001b[0;36m2\u001b[0m\u001b[0;34m)\u001b[0m\u001b[0;34m\u001b[0m\u001b[0m\n\u001b[0m",
      "\u001b[0;31mTypeError\u001b[0m: unsupported operand type(s) for /: 'str' and 'int'"
     ]
    }
   ],
   "source": [
    "# An error will occur here.\n",
    "dog_age = '10'\n",
    "print(dog_age/2)"
   ]
  },
  {
   "cell_type": "markdown",
   "metadata": {},
   "source": [
    "Essentially any time we are using text data, we are working with strings. If there are problems with computation, sometimes the first place you can look is by checking the `type()` of the data. For example, if `type(z) = str` we cannot do any computation with `z`."
   ]
  },
  {
   "cell_type": "markdown",
   "metadata": {},
   "source": [
    "## Collections of objects: Lists"
   ]
  },
  {
   "cell_type": "markdown",
   "metadata": {},
   "source": [
    "![People](https://github.com/varunsatish/Coding-Tutorials/blob/master/images/lists.jpg?raw=true) \n",
    "\n"
   ]
  },
  {
   "cell_type": "markdown",
   "metadata": {},
   "source": [
    "A 'list' is a collection of arbitrary objects, we define a list using the square brackets:"
   ]
  },
  {
   "cell_type": "code",
   "execution_count": 15,
   "metadata": {},
   "outputs": [
    {
     "name": "stdout",
     "output_type": "stream",
     "text": [
      "['Tommy', 'Pat', 'Lea', 'Varun']\n"
     ]
    }
   ],
   "source": [
    "ECON_cohort = ['Tommy', 'Pat', 'Lea', 'Varun']\n",
    "print(ECMT_cohort)"
   ]
  },
  {
   "cell_type": "markdown",
   "metadata": {},
   "source": [
    "Notice that what we have actually done is created a collection of objects. These collections are known as 'lists' and they are very important because they allow us to keep variables together. Python doesn't (usually) have any notion of a 'vector', so for those of you who have some background in programming or Linear Algebra, sometimes when you need to do some computation, you can think of lists of integers as sort of like vectors."
   ]
  },
  {
   "cell_type": "markdown",
   "metadata": {},
   "source": [
    "We can perform functions on lists, for example we may be interested in how many elements are within the list, or we may be interested in a specfic object within the list. These are very basic examples and there are far more functions, but for now these will do."
   ]
  },
  {
   "cell_type": "code",
   "execution_count": 8,
   "metadata": {},
   "outputs": [
    {
     "data": {
      "text/plain": [
       "4"
      ]
     },
     "execution_count": 8,
     "metadata": {},
     "output_type": "execute_result"
    }
   ],
   "source": [
    "len(ECON_cohort) "
   ]
  },
  {
   "cell_type": "markdown",
   "metadata": {},
   "source": [
    "We can also **'index'** lists, meaning that we can refer to specific elements within them by reffering to the numerical order. This is extremley important later on when we talk about functions and loops."
   ]
  },
  {
   "cell_type": "code",
   "execution_count": 16,
   "metadata": {},
   "outputs": [
    {
     "data": {
      "text/plain": [
       "'Tommy'"
      ]
     },
     "execution_count": 16,
     "metadata": {},
     "output_type": "execute_result"
    }
   ],
   "source": [
    "ECON_cohort[0] # Python indexing begins at 0!"
   ]
  },
  {
   "cell_type": "markdown",
   "metadata": {},
   "source": [
    "We have all come across indexing before. For example, if we have a random variable $x$, we can refer to the $i^{th}$ observation with $x_i$ i.e the first observation is $x_1$, the second is $x_2$ and so forth. "
   ]
  },
  {
   "cell_type": "markdown",
   "metadata": {},
   "source": [
    "\n",
    "## Packages\n",
    "\n",
    "Packages are an important part of the Python programming language. You can think of packages as 'add ons' to the language. Some of these packages are really the basis of a lot that you will do in the programming language. A couple of examples are the Numpy and Pandas packages, which we will see a little later. Generally, the syntax for importing packages looks like:`import [package] as [convenient name]`. For example, `import pandas as pd` or `import numpy as np`. If you look online there are names under which packages are imported almost universally."
   ]
  },
  {
   "cell_type": "markdown",
   "metadata": {},
   "source": [
    "## Collections of numbers: Arrays"
   ]
  },
  {
   "cell_type": "markdown",
   "metadata": {},
   "source": [
    "Lists are very 'pythonic' (meaning they are unique to the Python language). They are also very useful. If we want to quickly collect many objects, lists are perfect but if we want to do some arithmetic on those objects, arrays can be more useful.\n",
    "\n",
    " Arrays are part of a package known as `numpy` which must be imported. Numpy is an extremley powerful package which is used for many different kinds of computation in Python. Typically, we import numpy using the following expression `import numpy as np`, which allows us to call `np` instead of `numpy` when we want to use something from the package.\n",
    "\n",
    "The key distinction between a list and an array comes from the fact that lists can be filled with multiple *types* of objects, whilst arrays must be homogenous. For example, a list can contain both strings and integers: `x = [1, 'cat', 3]` whilst arrays must all be filled with one or the other: `y = np.array(['hello', 'world'])` or `z = np.array([1,2])`"
   ]
  },
  {
   "cell_type": "code",
   "execution_count": 10,
   "metadata": {},
   "outputs": [],
   "source": [
    "import numpy as np\n",
    "\n",
    "x = np.array([1,2,3,4,5])\n",
    "y = list([1,2,3,4,5])"
   ]
  },
  {
   "cell_type": "markdown",
   "metadata": {},
   "source": [
    "Suppose we want to divide everything by 3"
   ]
  },
  {
   "cell_type": "code",
   "execution_count": 11,
   "metadata": {},
   "outputs": [
    {
     "name": "stdout",
     "output_type": "stream",
     "text": [
      "[ 0.33333333  0.66666667  1.          1.33333333  1.66666667]\n"
     ]
    }
   ],
   "source": [
    "print(x/3)"
   ]
  },
  {
   "cell_type": "code",
   "execution_count": 12,
   "metadata": {},
   "outputs": [
    {
     "ename": "TypeError",
     "evalue": "unsupported operand type(s) for /: 'list' and 'int'",
     "output_type": "error",
     "traceback": [
      "\u001b[0;31m---------------------------------------------------------------------------\u001b[0m",
      "\u001b[0;31mTypeError\u001b[0m                                 Traceback (most recent call last)",
      "\u001b[0;32m<ipython-input-12-77572cc99ede>\u001b[0m in \u001b[0;36m<module>\u001b[0;34m()\u001b[0m\n\u001b[0;32m----> 1\u001b[0;31m \u001b[0mprint\u001b[0m\u001b[0;34m(\u001b[0m\u001b[0my\u001b[0m\u001b[0;34m/\u001b[0m\u001b[0;36m3\u001b[0m\u001b[0;34m)\u001b[0m\u001b[0;34m\u001b[0m\u001b[0m\n\u001b[0m",
      "\u001b[0;31mTypeError\u001b[0m: unsupported operand type(s) for /: 'list' and 'int'"
     ]
    }
   ],
   "source": [
    "print(y/3)"
   ]
  },
  {
   "cell_type": "markdown",
   "metadata": {},
   "source": [
    "Notice that the division throws up an error when we are dealing with the list, but not the array.\n",
    "\n",
    "Arrays are similar objects to vectors in MATLAB or R, so if you are familiar with those languages you might be more accustomed to working with arrays. Arrays can also be 'n-dimensional', meaning they can ressemble matrices in MATLAB aswell. \n",
    "\n",
    "For those interested (this is really not necessary if you are a beginner), there is a more 'pythonic' way of dealing computation and lists using 'list comprehension', and in fact the function or operation that we are carrying out on each element within the list can be very general -- we will see more of this in the next workshop\n",
    "\n"
   ]
  },
  {
   "cell_type": "code",
   "execution_count": 13,
   "metadata": {},
   "outputs": [
    {
     "data": {
      "text/plain": [
       "[0.3333333333333333,\n",
       " 0.6666666666666666,\n",
       " 1.0,\n",
       " 1.3333333333333333,\n",
       " 1.6666666666666667]"
      ]
     },
     "execution_count": 13,
     "metadata": {},
     "output_type": "execute_result"
    }
   ],
   "source": [
    "[i/3 for i in y]"
   ]
  }
 ],
 "metadata": {
  "kernelspec": {
   "display_name": "Python 3",
   "language": "python",
   "name": "python3"
  },
  "language_info": {
   "codemirror_mode": {
    "name": "ipython",
    "version": 3
   },
   "file_extension": ".py",
   "mimetype": "text/x-python",
   "name": "python",
   "nbconvert_exporter": "python",
   "pygments_lexer": "ipython3",
   "version": "3.6.4"
  }
 },
 "nbformat": 4,
 "nbformat_minor": 2
}
