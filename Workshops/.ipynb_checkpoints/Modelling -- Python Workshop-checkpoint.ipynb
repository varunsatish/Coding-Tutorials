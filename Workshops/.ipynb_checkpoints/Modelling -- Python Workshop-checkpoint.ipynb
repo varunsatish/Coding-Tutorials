{
 "cells": [
  {
   "cell_type": "markdown",
   "metadata": {},
   "source": [
    "# Scientific Computing and Modelling in Python Part 1"
   ]
  },
  {
   "cell_type": "markdown",
   "metadata": {},
   "source": [
    "## 3.1 What is data science and modelling?"
   ]
  },
  {
   "cell_type": "markdown",
   "metadata": {},
   "source": [
    "Python is a powerful language that is used for analytics and modelling. A popular language in industry, it is heavily used in the **data science field** and gaining popularity in the econometrics field.\n",
    "\n",
    "So what is data science? Data science is a multi-disciplinary field that uses scientific methods, processes, algorithms and systems to extract knowledge and insights from data in various forms, both structured and unstructured.\n"
   ]
  },
  {
   "cell_type": "markdown",
   "metadata": {},
   "source": [
    "## Setting"
   ]
  },
  {
   "cell_type": "markdown",
   "metadata": {},
   "source": [
    "Just a high level refresher, suppose we had a bunch of data collected on some [Pokemon](https://en.wikipedia.org/wiki/Pok%C3%A9mon). In particular, for each pokemon, we noted down their height and weight. In particular, we had the following observations:\n",
    "\n",
    "- Pikachu: Height-120 and Weight-54\n",
    "- Charmander: Height-132 and Weight-58\n",
    "- Squirtle: Height-144 and Weight-68\n",
    "- Raichu: Height-150 and Weight-70"
   ]
  },
  {
   "cell_type": "markdown",
   "metadata": {},
   "source": [
    "We want to see if there is a **linear relationship** between the age and height of the Pokemon. That is, are the two _features_ for the Pokemon related?\n",
    "\n",
    "More specifically, we want to investigate whether are _taller_ pokemon heavier?\n",
    "\n",
    "Fortunately, using Python, we can investigate this!"
   ]
  },
  {
   "cell_type": "markdown",
   "metadata": {},
   "source": [
    "## 3.2 NumPy Arrays"
   ]
  },
  {
   "cell_type": "markdown",
   "metadata": {},
   "source": [
    "For the rest of this tutorial, we will be using [numpy arrays](https://www.machinelearningplus.com/python/numpy-tutorial-part1-array-python-examples/) rather than lists.\n",
    "\n",
    "#### Remark\n",
    "Why are we now working with numpy arrays rather than lists? A few reasons actually!\n",
    "\n",
    "1) NumPy arrays are alot more efficient than lists. For example, if you had 10 different datasets to work with, storing it in a list of lists would take around 2 MB whilst storing it in a NumPy array would take around 20% of that. This is really important as this means you're laptop/desktop will be able to process the data MUCH faster and more efficiently.\n",
    "\n",
    "2) NumPy arrays are quite similar to vectors in R or matrices in Matlab, hence you'll be able to port alot of the skills you learn here over.\n",
    "\n",
    "3) NumPy arrays allows for vector/matrix operations in a much smoother manner. In general, we have access to more functions that can be useful to us."
   ]
  },
  {
   "cell_type": "code",
   "execution_count": 1,
   "metadata": {},
   "outputs": [],
   "source": [
    "# First we import numpy \n",
    "import numpy as np"
   ]
  },
  {
   "cell_type": "code",
   "execution_count": 2,
   "metadata": {},
   "outputs": [],
   "source": [
    "# Creating arrays are quite easy. Recall how we created lists\n",
    "my_list = [10, 20, 30, 40]"
   ]
  },
  {
   "cell_type": "code",
   "execution_count": 3,
   "metadata": {},
   "outputs": [
    {
     "name": "stdout",
     "output_type": "stream",
     "text": [
      "[10, 20, 30, 40]\n"
     ]
    }
   ],
   "source": [
    "print(my_list)"
   ]
  },
  {
   "cell_type": "code",
   "execution_count": 4,
   "metadata": {},
   "outputs": [],
   "source": [
    "# So to create a NumPy array, we do something similar regarding the syntax of the list but we now wrap it\n",
    "# in the np.array() function.\n",
    "\n",
    "my_array = np.array([10, 20, 30, 40])"
   ]
  },
  {
   "cell_type": "code",
   "execution_count": 5,
   "metadata": {},
   "outputs": [
    {
     "name": "stdout",
     "output_type": "stream",
     "text": [
      "[10 20 30 40]\n"
     ]
    }
   ],
   "source": [
    "print(my_array)"
   ]
  },
  {
   "cell_type": "markdown",
   "metadata": {},
   "source": [
    "Same effect!"
   ]
  },
  {
   "cell_type": "code",
   "execution_count": 6,
   "metadata": {},
   "outputs": [
    {
     "name": "stdout",
     "output_type": "stream",
     "text": [
      "[10 20 30 40]\n"
     ]
    }
   ],
   "source": [
    "# We can also just pass in a list variable into our numpy function.\n",
    "my_array_two = np.array(my_list)\n",
    "print(my_array_two)"
   ]
  },
  {
   "cell_type": "markdown",
   "metadata": {},
   "source": [
    "#### Excercise\n",
    "\n",
    "1) Try creating a numpy array of the list `[\"pika pika\", \"bulbasaur\"]`. Does this work?\n",
    "\n",
    "2) Generate a numpy array of every 4th number from 1-100. Recall the range function `range(0, 100, 4)` may help here."
   ]
  },
  {
   "cell_type": "markdown",
   "metadata": {},
   "source": [
    "Now where NumPy arrays come in really handy is vector operations. Let's see some examples."
   ]
  },
  {
   "cell_type": "code",
   "execution_count": 7,
   "metadata": {},
   "outputs": [],
   "source": [
    "# We have two lists.\n",
    "x_one = [1,2,3,4,5]\n",
    "x_two = [10,20,30,40,50]\n",
    "\n",
    "# Let's add them together. What do you think we will get?\n",
    "x_three = x_one + x_two\n",
    "#print(x_three)"
   ]
  },
  {
   "cell_type": "code",
   "execution_count": 8,
   "metadata": {},
   "outputs": [],
   "source": [
    "# So how would we actually add them together?\n",
    "\n",
    "# Method 1:\n",
    "x_three = []\n",
    "for index, entry in enumerate(x_one):\n",
    "    result = x_one[index] + x_two[index]\n",
    "    x_three.append(result)\n",
    "    \n",
    "# Method 2: Faster way of the above\n",
    "x_sum = [entry_one + entry_two for entry_one, entry_two in zip(x_one, x_two)]"
   ]
  },
  {
   "cell_type": "markdown",
   "metadata": {},
   "source": [
    "Unecessarily difficult for a task that should seem easy!!! \n",
    "\n",
    "What happens if we use numpy?"
   ]
  },
  {
   "cell_type": "code",
   "execution_count": 9,
   "metadata": {},
   "outputs": [
    {
     "name": "stdout",
     "output_type": "stream",
     "text": [
      "[11 22 33 44 55]\n"
     ]
    }
   ],
   "source": [
    "x_one = np.array([1,2,3,4,5])\n",
    "x_two = np.array([10,20,30,40,50])\n",
    "\n",
    "print(x_one + x_two)"
   ]
  },
  {
   "cell_type": "markdown",
   "metadata": {},
   "source": [
    "Too easy."
   ]
  },
  {
   "cell_type": "markdown",
   "metadata": {},
   "source": [
    "#### Excercise\n",
    "\n",
    "1) Create a function that takes in two numpy arrays, subtract them from each other and return a numpy array containing the results.\n",
    "\n",
    "2) (Extension) Given two numpy arrays (1 x n) and (n x 1), matrix multiply them together to get a single value. (You might want to Google what does @ in Python do)"
   ]
  },
  {
   "cell_type": "code",
   "execution_count": 10,
   "metadata": {},
   "outputs": [],
   "source": [
    "# x_one @ x_two"
   ]
  },
  {
   "cell_type": "markdown",
   "metadata": {},
   "source": [
    "Now that's very cool and all but what if we want to work with matrices instead?\n",
    "\n",
    "It's easy, you insert in a `list of lists`. Simply put the list of numbers, followed by a `,` and then your next row of entries. Make sure the rows are of the same length (for linear algebra to work, it'll still work in Python)!"
   ]
  },
  {
   "cell_type": "code",
   "execution_count": 11,
   "metadata": {},
   "outputs": [
    {
     "name": "stdout",
     "output_type": "stream",
     "text": [
      "[[1 2 3]\n",
      " [4 5 6]\n",
      " [7 8 9]]\n"
     ]
    }
   ],
   "source": [
    "A = np.array([[1,2,3], [4,5,6], [7,8,9]])\n",
    "print(A)"
   ]
  },
  {
   "cell_type": "code",
   "execution_count": 12,
   "metadata": {},
   "outputs": [
    {
     "name": "stdout",
     "output_type": "stream",
     "text": [
      "[list([1, 2, 3]) list([4]) list([7, 8])]\n"
     ]
    }
   ],
   "source": [
    "# What happens if not the same length\n",
    "B = np.array([[1,2,3], [4], [7,8]])\n",
    "print(B)\n",
    "\n",
    "# Still works but generally not a good idea if you recall from your math classes..."
   ]
  },
  {
   "cell_type": "code",
   "execution_count": 13,
   "metadata": {},
   "outputs": [
    {
     "name": "stdout",
     "output_type": "stream",
     "text": [
      "[[0. 0. 0.]\n",
      " [0. 0. 0.]]\n",
      "\n",
      "\n",
      "\n",
      "[[1. 1. 1. 1. 1. 1.]\n",
      " [1. 1. 1. 1. 1. 1.]\n",
      " [1. 1. 1. 1. 1. 1.]\n",
      " [1. 1. 1. 1. 1. 1.]\n",
      " [1. 1. 1. 1. 1. 1.]]\n",
      "\n",
      "\n",
      "\n",
      "[[1. 0. 0.]\n",
      " [0. 1. 0.]\n",
      " [0. 0. 1.]]\n"
     ]
    }
   ],
   "source": [
    "# We also have some special functions to create certain matrices we may need in maths.\n",
    "\n",
    "# A 2x3 matrix of 0.\n",
    "zeros = np.zeros( (2, 3) )\n",
    "print(zeros)\n",
    "print(\"\\n\\n\") # Just to make output easier to read.\n",
    "\n",
    "# A 5x6 matrix of 1.\n",
    "ones = np.ones( ( 5, 6) )\n",
    "print(ones)\n",
    "print(\"\\n\\n\") # Just to make output easier to read.\n",
    "\n",
    "# A 3x3 identity matrix (recall these are always square matrices, so we need to only specify row length).\n",
    "identity = np.eye( (3) )\n",
    "print(identity)"
   ]
  },
  {
   "cell_type": "markdown",
   "metadata": {},
   "source": [
    "There are so many features for NumPy but one more important thing is access elements of our numpy array."
   ]
  },
  {
   "cell_type": "code",
   "execution_count": 14,
   "metadata": {},
   "outputs": [
    {
     "name": "stdout",
     "output_type": "stream",
     "text": [
      "[[ 1  2  3]\n",
      " [ 4  5  6]\n",
      " [ 7  8  9]\n",
      " [10 11 12]]\n"
     ]
    }
   ],
   "source": [
    "array = np.array([ [1, 2, 3], [4, 5, 6], [7, 8, 9], [10, 11, 12] ])\n",
    "print(array)"
   ]
  },
  {
   "cell_type": "markdown",
   "metadata": {},
   "source": [
    "Lets say we want to access 4. It is in the **1st** row (remember we count from 0 in Python) and in the **0th** column."
   ]
  },
  {
   "cell_type": "code",
   "execution_count": 15,
   "metadata": {},
   "outputs": [
    {
     "data": {
      "text/plain": [
       "4"
      ]
     },
     "execution_count": 15,
     "metadata": {},
     "output_type": "execute_result"
    }
   ],
   "source": [
    "# First specify row number and then column number.\n",
    "array[1][0]"
   ]
  },
  {
   "cell_type": "markdown",
   "metadata": {},
   "source": [
    "#### Excercise\n",
    "1) Access the number 6 in `array`.\n",
    "\n",
    "2) Access the number 11 in `array`."
   ]
  },
  {
   "cell_type": "markdown",
   "metadata": {},
   "source": [
    "What we just did is known as _indexing_. Now what if we want to grab an entire row? We use a technique called [slicing](https://machinelearningmastery.com/index-slice-reshape-numpy-arrays-machine-learning-python/).\n",
    "\n",
    "To grab the 1st row (so [4, 5, 6] in our case), we specify the row and `,` to specify the columns we want from that row. If we leave out `,` we just get the entire row."
   ]
  },
  {
   "cell_type": "code",
   "execution_count": 16,
   "metadata": {},
   "outputs": [
    {
     "data": {
      "text/plain": [
       "array([4, 5, 6])"
      ]
     },
     "execution_count": 16,
     "metadata": {},
     "output_type": "execute_result"
    }
   ],
   "source": [
    "array[1]"
   ]
  },
  {
   "cell_type": "code",
   "execution_count": 17,
   "metadata": {},
   "outputs": [
    {
     "data": {
      "text/plain": [
       "array([4, 5, 6])"
      ]
     },
     "execution_count": 17,
     "metadata": {},
     "output_type": "execute_result"
    }
   ],
   "source": [
    "# This is equivalent to where the left and right of : is empty to grab anything.\n",
    "array[1, :]"
   ]
  },
  {
   "cell_type": "code",
   "execution_count": 18,
   "metadata": {},
   "outputs": [
    {
     "data": {
      "text/plain": [
       "array([5, 6])"
      ]
     },
     "execution_count": 18,
     "metadata": {},
     "output_type": "execute_result"
    }
   ],
   "source": [
    "# What if we want only the 1st and 2nd column. Recall that this will grab the 1st column and 2nd\n",
    "# (but not 3rd because its exclusive)\n",
    "array[1, 1:3]"
   ]
  },
  {
   "cell_type": "code",
   "execution_count": 19,
   "metadata": {},
   "outputs": [
    {
     "data": {
      "text/plain": [
       "array([[1, 2],\n",
       "       [4, 5]])"
      ]
     },
     "execution_count": 19,
     "metadata": {},
     "output_type": "execute_result"
    }
   ],
   "source": [
    "# Grab first 2 rows and first 2 columns.\n",
    "array[0:2, 0:2]"
   ]
  },
  {
   "cell_type": "markdown",
   "metadata": {},
   "source": [
    "#### Excercise\n",
    "\n",
    "Use the `array = np.array([ [1, 2, 3], [4, 5, 6], [7, 8, 9], [10, 11, 12] ])` to work on. Grab the following rows and columns from the array.\n",
    "\n",
    "1) Grab the first 3 rows and first 2 columns.\n",
    "\n",
    "2) Grab the first 3 rows and first column.\n",
    "\n",
    "3) Grab the last 2 rows and last 2 columns."
   ]
  },
  {
   "cell_type": "markdown",
   "metadata": {},
   "source": [
    "## 3.3 Summary Statistics"
   ]
  },
  {
   "cell_type": "markdown",
   "metadata": {},
   "source": [
    "When you're first given a dataset in data analysis, running some basics analysis to look at things such as summary statistics can go a long way. Here we can keep using the Numpy library to help us."
   ]
  },
  {
   "cell_type": "code",
   "execution_count": 25,
   "metadata": {},
   "outputs": [
    {
     "name": "stdout",
     "output_type": "stream",
     "text": [
      "[0 1 2 3 4 5 6 7 8 9]\n"
     ]
    }
   ],
   "source": [
    "# Creates a 1x10 array from 0-9.\n",
    "fake_data = np.arange(10)\n",
    "print(fake_data)"
   ]
  },
  {
   "cell_type": "code",
   "execution_count": 26,
   "metadata": {},
   "outputs": [
    {
     "data": {
      "text/plain": [
       "4.5"
      ]
     },
     "execution_count": 26,
     "metadata": {},
     "output_type": "execute_result"
    }
   ],
   "source": [
    "# Let's say we want to get the mean. It is quite easy. The function is `mean()`.\n",
    "np.mean(fake_data)"
   ]
  },
  {
   "cell_type": "code",
   "execution_count": 27,
   "metadata": {},
   "outputs": [
    {
     "data": {
      "text/plain": [
       "8.25"
      ]
     },
     "execution_count": 27,
     "metadata": {},
     "output_type": "execute_result"
    }
   ],
   "source": [
    "# If we want to get the variance, it is quite similar.\n",
    "np.var(fake_data)"
   ]
  },
  {
   "cell_type": "markdown",
   "metadata": {},
   "source": [
    "#### Excercise\n",
    "\n",
    "1) Calculate the standard deviation of `fake_data`. Use the function `np.std()` OR a combination of `np.sqrt()` (square roots numbers) and `np.var()`."
   ]
  },
  {
   "cell_type": "code",
   "execution_count": 28,
   "metadata": {},
   "outputs": [
    {
     "data": {
      "text/plain": [
       "2.8722813232690143"
      ]
     },
     "execution_count": 28,
     "metadata": {},
     "output_type": "execute_result"
    }
   ],
   "source": [
    "np.sqrt(np.var(fake_data))"
   ]
  },
  {
   "cell_type": "code",
   "execution_count": 30,
   "metadata": {},
   "outputs": [
    {
     "data": {
      "text/plain": [
       "2.8722813232690143"
      ]
     },
     "execution_count": 30,
     "metadata": {},
     "output_type": "execute_result"
    }
   ],
   "source": [
    "np.std(fake_data)"
   ]
  },
  {
   "cell_type": "markdown",
   "metadata": {},
   "source": [
    "#### Excercise\n",
    "\n",
    "Suppose we had a 5 x 2 matrix. `A = np.array([ [5, 10, 15, 20, 25], [6, 12, 18, 24, 30] ])`.\n",
    "\n",
    "1) Calculate the mean and variance of the first column.\n",
    "\n",
    "2) Do the same thing for the second column."
   ]
  },
  {
   "cell_type": "markdown",
   "metadata": {},
   "source": [
    "Going back to the earlier Pokemon example. Let's say we want to compute the **correlation** between two arrays. It's quite easy now with numpy!"
   ]
  },
  {
   "cell_type": "code",
   "execution_count": 31,
   "metadata": {},
   "outputs": [],
   "source": [
    "height = np.array([120, 132, 144, 150])\n",
    "weight = np.array([54, 58, 68, 70])"
   ]
  },
  {
   "cell_type": "markdown",
   "metadata": {},
   "source": [
    "We can use the `np.corrcoef` function."
   ]
  },
  {
   "cell_type": "code",
   "execution_count": 32,
   "metadata": {},
   "outputs": [
    {
     "data": {
      "text/plain": [
       "array([[1.        , 0.98280838],\n",
       "       [0.98280838, 1.        ]])"
      ]
     },
     "execution_count": 32,
     "metadata": {},
     "output_type": "execute_result"
    }
   ],
   "source": [
    "np.corrcoef(height, weight)"
   ]
  },
  {
   "cell_type": "markdown",
   "metadata": {},
   "source": [
    "What's this? We were given back a 2x2 matrix. This is simply a correlation matrix where the diagonal are simply the correlation of the array with itself. So the top left `1` shows the correlation of height with height is 1 (duh!). Hence we are only interested in off-diagonals. This is a symmetric matrix so it doesn't matter which off-diagonal we pick."
   ]
  },
  {
   "cell_type": "code",
   "execution_count": 34,
   "metadata": {},
   "outputs": [
    {
     "name": "stdout",
     "output_type": "stream",
     "text": [
      "0.9828083836176786\n",
      "0.9828083836176787\n"
     ]
    }
   ],
   "source": [
    "# We can access the off-diagonal using the same numpy techniques as before for indexing.\n",
    "print(np.corrcoef(height, weight)[0][1])\n",
    "\n",
    "# We can also get the other off-diagonal too.\n",
    "print(np.corrcoef(height, weight)[1][0])"
   ]
  },
  {
   "cell_type": "markdown",
   "metadata": {},
   "source": [
    "## 3.4 Regressions"
   ]
  },
  {
   "cell_type": "markdown",
   "metadata": {},
   "source": [
    "Now computing the correlation between variables is good if we want to see whether is there a linear relationship between two variables. However, what if we wanted to know whether does a Pokemon being taller *causes* them to be heavier? This is where regressions come into play. The let us see how the dependent/response variable (weight) is affected by the independent/control/feature variable (height)."
   ]
  },
  {
   "cell_type": "markdown",
   "metadata": {},
   "source": [
    "We shift gears again to now using `StatsModel` package."
   ]
  },
  {
   "cell_type": "markdown",
   "metadata": {},
   "source": [
    "First, we need to create a `linear regression object` which can be used to store all the information about our regression. You can think of it as a very fancy list if it helps."
   ]
  },
  {
   "cell_type": "markdown",
   "metadata": {},
   "source": [
    "Now we need to do the actual regression on the data. Note that the independent (height) variable goes first in terms of arguments for the `fit()` function."
   ]
  },
  {
   "cell_type": "code",
   "execution_count": 1,
   "metadata": {},
   "outputs": [],
   "source": [
    "import statsmodels.api as sm\n",
    "#import statsmodels.formula.api as smf"
   ]
  },
  {
   "cell_type": "code",
   "execution_count": 2,
   "metadata": {},
   "outputs": [
    {
     "ename": "NameError",
     "evalue": "name 'np' is not defined",
     "output_type": "error",
     "traceback": [
      "\u001b[0;31m---------------------------------------------------------------------------\u001b[0m",
      "\u001b[0;31mNameError\u001b[0m                                 Traceback (most recent call last)",
      "\u001b[0;32m<ipython-input-2-3d8bfdfed0b8>\u001b[0m in \u001b[0;36m<module>\u001b[0;34m()\u001b[0m\n\u001b[0;32m----> 1\u001b[0;31m \u001b[0mheight\u001b[0m \u001b[0;34m=\u001b[0m \u001b[0mnp\u001b[0m\u001b[0;34m.\u001b[0m\u001b[0marray\u001b[0m\u001b[0;34m(\u001b[0m\u001b[0;34m[\u001b[0m\u001b[0;36m120\u001b[0m\u001b[0;34m,\u001b[0m \u001b[0;36m132\u001b[0m\u001b[0;34m,\u001b[0m \u001b[0;36m144\u001b[0m\u001b[0;34m,\u001b[0m \u001b[0;36m150\u001b[0m\u001b[0;34m]\u001b[0m\u001b[0;34m)\u001b[0m\u001b[0;34m\u001b[0m\u001b[0m\n\u001b[0m\u001b[1;32m      2\u001b[0m \u001b[0mweight\u001b[0m \u001b[0;34m=\u001b[0m \u001b[0mnp\u001b[0m\u001b[0;34m.\u001b[0m\u001b[0marray\u001b[0m\u001b[0;34m(\u001b[0m\u001b[0;34m[\u001b[0m\u001b[0;36m54\u001b[0m\u001b[0;34m,\u001b[0m \u001b[0;36m58\u001b[0m\u001b[0;34m,\u001b[0m \u001b[0;36m68\u001b[0m\u001b[0;34m,\u001b[0m \u001b[0;36m70\u001b[0m\u001b[0;34m]\u001b[0m\u001b[0;34m)\u001b[0m\u001b[0;34m\u001b[0m\u001b[0m\n",
      "\u001b[0;31mNameError\u001b[0m: name 'np' is not defined"
     ]
    }
   ],
   "source": [
    "height = np.array([120, 132, 144, 150])\n",
    "weight = np.array([54, 58, 68, 70])"
   ]
  },
  {
   "cell_type": "code",
   "execution_count": null,
   "metadata": {},
   "outputs": [],
   "source": [
    "model = sm.OLS(weight, height)\n",
    "model_result = model.fit()\n",
    "print(model_result.summary())"
   ]
  },
  {
   "cell_type": "markdown",
   "metadata": {},
   "source": [
    "Notice we don't have an intercept. If we want to add it, we need to specify beforehand in our independent variable array."
   ]
  },
  {
   "cell_type": "code",
   "execution_count": 3,
   "metadata": {},
   "outputs": [
    {
     "ename": "NameError",
     "evalue": "name 'height' is not defined",
     "output_type": "error",
     "traceback": [
      "\u001b[0;31m---------------------------------------------------------------------------\u001b[0m",
      "\u001b[0;31mNameError\u001b[0m                                 Traceback (most recent call last)",
      "\u001b[0;32m<ipython-input-3-2f70f27c35e5>\u001b[0m in \u001b[0;36m<module>\u001b[0;34m()\u001b[0m\n\u001b[0;32m----> 1\u001b[0;31m \u001b[0mheight_modified\u001b[0m \u001b[0;34m=\u001b[0m \u001b[0msm\u001b[0m\u001b[0;34m.\u001b[0m\u001b[0madd_constant\u001b[0m\u001b[0;34m(\u001b[0m\u001b[0mheight\u001b[0m\u001b[0;34m)\u001b[0m\u001b[0;34m\u001b[0m\u001b[0m\n\u001b[0m",
      "\u001b[0;31mNameError\u001b[0m: name 'height' is not defined"
     ]
    }
   ],
   "source": [
    "height_modified = sm.add_constant(height)"
   ]
  },
  {
   "cell_type": "code",
   "execution_count": 72,
   "metadata": {},
   "outputs": [
    {
     "name": "stdout",
     "output_type": "stream",
     "text": [
      "[[  1. 120.]\n",
      " [  1. 132.]\n",
      " [  1. 144.]\n",
      " [  1. 150.]]\n"
     ]
    }
   ],
   "source": [
    "print(height_modified)"
   ]
  },
  {
   "cell_type": "markdown",
   "metadata": {},
   "source": [
    "Now we have constants for us to have an intercept in our regression."
   ]
  },
  {
   "cell_type": "code",
   "execution_count": 73,
   "metadata": {},
   "outputs": [
    {
     "name": "stdout",
     "output_type": "stream",
     "text": [
      "                            OLS Regression Results                            \n",
      "==============================================================================\n",
      "Dep. Variable:                      y   R-squared:                       0.966\n",
      "Model:                            OLS   Adj. R-squared:                  0.949\n",
      "Method:                 Least Squares   F-statistic:                     56.67\n",
      "Date:                Sun, 17 Mar 2019   Prob (F-statistic):             0.0172\n",
      "Time:                        17:39:45   Log-Likelihood:                -6.5203\n",
      "No. Observations:                   4   AIC:                             17.04\n",
      "Df Residuals:                       2   BIC:                             15.81\n",
      "Df Model:                           1                                         \n",
      "Covariance Type:            nonrobust                                         \n",
      "==============================================================================\n",
      "                 coef    std err          t      P>|t|      [0.025      0.975]\n",
      "------------------------------------------------------------------------------\n",
      "const        -15.3898     10.383     -1.482      0.277     -60.066      29.286\n",
      "x1             0.5706      0.076      7.528      0.017       0.244       0.897\n",
      "==============================================================================\n",
      "Omnibus:                          nan   Durbin-Watson:                   3.290\n",
      "Prob(Omnibus):                    nan   Jarque-Bera (JB):                0.488\n",
      "Skew:                          -0.615   Prob(JB):                        0.783\n",
      "Kurtosis:                       1.811   Cond. No.                     1.63e+03\n",
      "==============================================================================\n",
      "\n",
      "Warnings:\n",
      "[1] Standard Errors assume that the covariance matrix of the errors is correctly specified.\n",
      "[2] The condition number is large, 1.63e+03. This might indicate that there are\n",
      "strong multicollinearity or other numerical problems.\n"
     ]
    },
    {
     "name": "stderr",
     "output_type": "stream",
     "text": [
      "/usr/local/lib/python3.7/site-packages/statsmodels/stats/stattools.py:72: ValueWarning: omni_normtest is not valid with less than 8 observations; 4 samples were given.\n",
      "  \"samples were given.\" % int(n), ValueWarning)\n"
     ]
    }
   ],
   "source": [
    "model = sm.OLS(weight, height_modified)\n",
    "model_result = model.fit()\n",
    "print(model_result.summary())"
   ]
  },
  {
   "cell_type": "markdown",
   "metadata": {},
   "source": [
    "That looks better now!"
   ]
  },
  {
   "cell_type": "markdown",
   "metadata": {},
   "source": [
    "If we want to access the coefficients, it's easy! Just do `.params`. We can then access the parameter values using numpy indexing as usual."
   ]
  },
  {
   "cell_type": "code",
   "execution_count": 4,
   "metadata": {},
   "outputs": [
    {
     "ename": "NameError",
     "evalue": "name 'model_result' is not defined",
     "output_type": "error",
     "traceback": [
      "\u001b[0;31m---------------------------------------------------------------------------\u001b[0m",
      "\u001b[0;31mNameError\u001b[0m                                 Traceback (most recent call last)",
      "\u001b[0;32m<ipython-input-4-15f9d54808c0>\u001b[0m in \u001b[0;36m<module>\u001b[0;34m()\u001b[0m\n\u001b[0;32m----> 1\u001b[0;31m \u001b[0mprint\u001b[0m\u001b[0;34m(\u001b[0m\u001b[0mmodel_result\u001b[0m\u001b[0;34m.\u001b[0m\u001b[0mparams\u001b[0m\u001b[0;34m)\u001b[0m\u001b[0;34m\u001b[0m\u001b[0m\n\u001b[0m",
      "\u001b[0;31mNameError\u001b[0m: name 'model_result' is not defined"
     ]
    }
   ],
   "source": [
    "print(model_result.params)"
   ]
  },
  {
   "cell_type": "markdown",
   "metadata": {},
   "source": [
    "If we want to access the test-statistics on the parameters, we can go `.tvalues`."
   ]
  },
  {
   "cell_type": "code",
   "execution_count": 77,
   "metadata": {},
   "outputs": [
    {
     "name": "stdout",
     "output_type": "stream",
     "text": [
      "[-1.48216504  7.52809552]\n"
     ]
    }
   ],
   "source": [
    "print(model_result.tvalues)"
   ]
  },
  {
   "cell_type": "markdown",
   "metadata": {},
   "source": [
    "When in doubt on what you can get, just go `model_result.` and then hit the `tab` button which will bring a list of things you can access from the variable. Such as the $R^2$."
   ]
  },
  {
   "cell_type": "code",
   "execution_count": 78,
   "metadata": {},
   "outputs": [
    {
     "data": {
      "text/plain": [
       "0.9659123189091942"
      ]
     },
     "execution_count": 78,
     "metadata": {},
     "output_type": "execute_result"
    }
   ],
   "source": [
    "model_result.rsquared"
   ]
  },
  {
   "cell_type": "markdown",
   "metadata": {},
   "source": [
    "#### Excercise\n",
    "\n",
    "1. Create your own numpy arrays and run your own regressions. Ask for help if needed! Try doing it with 2 or more variables.\n",
    "\n",
    "2. (Extension). If you have done ECMT2160, you would have seen the `logit` regression. Try implementing [it](https://www.statsmodels.org/dev/generated/statsmodels.discrete.discrete_model.Logit.html). Instead of `sm.OLS`, use `sm.Logit` and keep everything else the same."
   ]
  },
  {
   "cell_type": "code",
   "execution_count": null,
   "metadata": {},
   "outputs": [],
   "source": []
  }
 ],
 "metadata": {
  "kernelspec": {
   "display_name": "Python 3",
   "language": "python",
   "name": "python3"
  },
  "language_info": {
   "codemirror_mode": {
    "name": "ipython",
    "version": 3
   },
   "file_extension": ".py",
   "mimetype": "text/x-python",
   "name": "python",
   "nbconvert_exporter": "python",
   "pygments_lexer": "ipython3",
   "version": "3.7.0"
  }
 },
 "nbformat": 4,
 "nbformat_minor": 2
}
