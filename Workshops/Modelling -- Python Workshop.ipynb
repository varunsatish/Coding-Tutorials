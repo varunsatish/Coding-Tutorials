{
 "cells": [
  {
   "cell_type": "markdown",
   "metadata": {},
   "source": [
    "# Statistical Modelling"
   ]
  },
  {
   "cell_type": "markdown",
   "metadata": {},
   "source": [
    "## 3.1 What is data science and modelling?"
   ]
  },
  {
   "cell_type": "markdown",
   "metadata": {},
   "source": [
    "Python is a powerful language that is used for analytics and modelling. A popular language in industry, it is heavily used in the **data science field** and gaining popularity in the econometrics field.\n",
    "\n",
    "So what is data science? Data science is a multi-disciplinary field that uses scientific methods, processes, algorithms and systems to extract knowledge and insights from data in various forms, both structured and unstructured.\n"
   ]
  },
  {
   "cell_type": "markdown",
   "metadata": {},
   "source": [
    "## Setting"
   ]
  },
  {
   "cell_type": "markdown",
   "metadata": {},
   "source": [
    "Just a high level refresher, suppose we had a bunch of data collected on some [Pokemon](https://en.wikipedia.org/wiki/Pok%C3%A9mon). In particular, for each pokemon, we noted down their height and weight. In particular, we had the following observations:\n",
    "\n",
    "- Pikachu: Height-120 and Weight-54\n",
    "- Charmander: Height-132 and Weight-58\n",
    "- Squirtle: Height-144 and Weight-68\n",
    "- Raichu: Height-150 and Weight-70"
   ]
  },
  {
   "cell_type": "markdown",
   "metadata": {},
   "source": [
    "We want to see if there is a **linear relationship** between the age and height of the Pokemon. That is, are the two _features_ for the Pokemon related?\n",
    "\n",
    "More specifically, we want to investigate whether are _taller_ pokemon heavier?\n",
    "\n",
    "Fortunately, using Python, we can investigate this!"
   ]
  },
  {
   "cell_type": "markdown",
   "metadata": {},
   "source": [
    "## 3.2 NumPy Arrays"
   ]
  },
  {
   "cell_type": "markdown",
   "metadata": {},
   "source": [
    "For the rest of this tutorial, we will be using [numpy arrays](https://www.machinelearningplus.com/python/numpy-tutorial-part1-array-python-examples/) rather than lists.\n",
    "\n",
    "#### Remark\n",
    "Why are we now working with numpy arrays rather than lists? A few reasons actually!\n",
    "\n",
    "1) NumPy arrays are alot more efficient than lists. For example, if you had 10 different datasets to work with, storing it in a list of lists would take around 2 MB whilst storing it in a NumPy array would take around 20% of that. This is really important as this means you're laptop/desktop will be able to process the data MUCH faster and more efficiently.\n",
    "\n",
    "2) NumPy arrays are quite similar to vectors in R or matrices in Matlab, hence you'll be able to port alot of the skills you learn here over.\n",
    "\n",
    "3) NumPy arrays allows for vector/matrix operations in a much smoother manner. In general, we have access to more functions that can be useful to us."
   ]
  },
  {
   "cell_type": "code",
   "execution_count": 7,
   "metadata": {},
   "outputs": [],
   "source": [
    "# First we import numpy \n",
    "import numpy as np"
   ]
  },
  {
   "cell_type": "code",
   "execution_count": 8,
   "metadata": {},
   "outputs": [],
   "source": [
    "# Creating arrays are quite easy. Recall how we created lists\n",
    "my_list = [10, 20, 30, 40]"
   ]
  },
  {
   "cell_type": "code",
   "execution_count": 15,
   "metadata": {},
   "outputs": [
    {
     "name": "stdout",
     "output_type": "stream",
     "text": [
      "[10, 20, 30, 40]\n"
     ]
    }
   ],
   "source": [
    "print(my_list)"
   ]
  },
  {
   "cell_type": "code",
   "execution_count": 11,
   "metadata": {},
   "outputs": [],
   "source": [
    "# So to create a NumPy array, we do something similar regarding the syntax of the list but we now wrap it\n",
    "# in the np.array() function.\n",
    "\n",
    "my_array = np.array([10, 20, 30, 40])"
   ]
  },
  {
   "cell_type": "code",
   "execution_count": 14,
   "metadata": {},
   "outputs": [
    {
     "name": "stdout",
     "output_type": "stream",
     "text": [
      "[10 20 30 40]\n"
     ]
    }
   ],
   "source": [
    "print(my_array)"
   ]
  },
  {
   "cell_type": "markdown",
   "metadata": {},
   "source": [
    "Same effect!"
   ]
  },
  {
   "cell_type": "code",
   "execution_count": 13,
   "metadata": {},
   "outputs": [
    {
     "name": "stdout",
     "output_type": "stream",
     "text": [
      "[10 20 30 40]\n"
     ]
    }
   ],
   "source": [
    "# We can also just pass in a list variable into our numpy function.\n",
    "my_array_two = np.array(my_list)\n",
    "print(my_array_two)"
   ]
  },
  {
   "cell_type": "markdown",
   "metadata": {},
   "source": [
    "#### Excercise\n",
    "\n",
    "1) Try creating a numpy array of the list `[\"pika pika\", \"bulbasaur\"]`. Does this work?\n",
    "\n",
    "2) Generate a numpy array of every 4th number from 1-100. Recall the range function `range(0, 100, 4)` may help here."
   ]
  },
  {
   "cell_type": "markdown",
   "metadata": {},
   "source": [
    "Now where NumPy arrays come in really handy is vector operations. Let's see some examples."
   ]
  },
  {
   "cell_type": "code",
   "execution_count": 23,
   "metadata": {},
   "outputs": [],
   "source": [
    "# We have two lists.\n",
    "x_one = [1,2,3,4,5]\n",
    "x_two = [10,20,30,40,50]\n",
    "\n",
    "# Let's add them together. What do you think we will get?\n",
    "x_three = x_one + x_two\n",
    "#print(x_three)"
   ]
  },
  {
   "cell_type": "code",
   "execution_count": 25,
   "metadata": {},
   "outputs": [],
   "source": [
    "# So how would we actually add them together?\n",
    "\n",
    "# Method 1:\n",
    "x_three = []\n",
    "for index, entry in enumerate(x_one):\n",
    "    result = x_one[index] + x_two[index]\n",
    "    x_three.append(result)\n",
    "    \n",
    "# Method 2: Faster way of the above\n",
    "x_sum = [entry_one + entry_two for entry_one, entry_two in zip(x_one, x_two)]"
   ]
  },
  {
   "cell_type": "markdown",
   "metadata": {},
   "source": [
    "Unecessarily difficult for a task that should seem easy!!! \n",
    "\n",
    "What happens if we use numpy?"
   ]
  },
  {
   "cell_type": "code",
   "execution_count": 26,
   "metadata": {},
   "outputs": [
    {
     "name": "stdout",
     "output_type": "stream",
     "text": [
      "[11 22 33 44 55]\n"
     ]
    }
   ],
   "source": [
    "x_one = np.array([1,2,3,4,5])\n",
    "x_two = np.array([10,20,30,40,50])\n",
    "\n",
    "print(x_one + x_two)"
   ]
  },
  {
   "cell_type": "markdown",
   "metadata": {},
   "source": [
    "Too easy."
   ]
  },
  {
   "cell_type": "markdown",
   "metadata": {},
   "source": [
    "#### Excercise\n",
    "\n",
    "1) Create a function that takes in two numpy arrays, subtract them from each other and return a numpy array containing the results.\n",
    "\n",
    "2) (Extension) Given two numpy arrays (1 x n) and (n x 1), matrix multiply them together to get a single value. (You might want to Google what does @ in Python do)"
   ]
  },
  {
   "cell_type": "code",
   "execution_count": 31,
   "metadata": {},
   "outputs": [],
   "source": [
    "# x_one @ x_two"
   ]
  },
  {
   "cell_type": "markdown",
   "metadata": {},
   "source": [
    "Now that's very cool and all but what if we want to work with matrices instead?\n",
    "\n",
    "It's easy, you insert in a `list of lists`. Simply put the list of numbers, followed by a `,` and then your next row of entries. Make sure the rows are of the same length (for linear algebra to work, it'll still work in Python)!"
   ]
  },
  {
   "cell_type": "code",
   "execution_count": 34,
   "metadata": {},
   "outputs": [
    {
     "name": "stdout",
     "output_type": "stream",
     "text": [
      "[[1 2 3]\n",
      " [4 5 6]\n",
      " [7 8 9]]\n"
     ]
    }
   ],
   "source": [
    "A = np.array([[1,2,3], [4,5,6], [7,8,9]])\n",
    "print(A)"
   ]
  },
  {
   "cell_type": "code",
   "execution_count": 36,
   "metadata": {},
   "outputs": [
    {
     "name": "stdout",
     "output_type": "stream",
     "text": [
      "[list([1, 2, 3]) list([4]) list([7, 8])]\n"
     ]
    }
   ],
   "source": [
    "# What happens if not the same length\n",
    "B = np.array([[1,2,3], [4], [7,8]])\n",
    "print(B)\n",
    "\n",
    "# Still works but generally not a good idea if you recall from your math classes..."
   ]
  },
  {
   "cell_type": "code",
   "execution_count": 39,
   "metadata": {},
   "outputs": [
    {
     "name": "stdout",
     "output_type": "stream",
     "text": [
      "[[0. 0. 0.]\n",
      " [0. 0. 0.]]\n",
      "\n",
      "\n",
      "\n",
      "[[1. 1. 1. 1. 1. 1.]\n",
      " [1. 1. 1. 1. 1. 1.]\n",
      " [1. 1. 1. 1. 1. 1.]\n",
      " [1. 1. 1. 1. 1. 1.]\n",
      " [1. 1. 1. 1. 1. 1.]]\n",
      "\n",
      "\n",
      "\n",
      "[[1. 0. 0.]\n",
      " [0. 1. 0.]\n",
      " [0. 0. 1.]]\n"
     ]
    }
   ],
   "source": [
    "# We also have some special functions to create certain matrices we may need in maths.\n",
    "\n",
    "# A 2x3 matrix of 0.\n",
    "zeros = np.zeros( (2, 3) )\n",
    "print(zeros)\n",
    "print(\"\\n\\n\") # Just to make output easier to read.\n",
    "\n",
    "# A 5x6 matrix of 1.\n",
    "ones = np.ones( ( 5, 6) )\n",
    "print(ones)\n",
    "print(\"\\n\\n\") # Just to make output easier to read.\n",
    "\n",
    "# A 3x3 identity matrix (recall these are always square matrices, so we need to only specify row length).\n",
    "identity = np.eye( (3) )\n",
    "print(identity)"
   ]
  },
  {
   "cell_type": "markdown",
   "metadata": {},
   "source": [
    "There are so many features for NumPy but one more important thing is access elements of our numpy array."
   ]
  },
  {
   "cell_type": "code",
   "execution_count": 42,
   "metadata": {},
   "outputs": [
    {
     "name": "stdout",
     "output_type": "stream",
     "text": [
      "[[ 1  2  3]\n",
      " [ 4  5  6]\n",
      " [ 7  8  9]\n",
      " [10 11 12]]\n"
     ]
    }
   ],
   "source": [
    "array = np.array([ [1, 2, 3], [4, 5, 6], [7, 8, 9], [10, 11, 12] ])\n",
    "print(array)"
   ]
  },
  {
   "cell_type": "markdown",
   "metadata": {},
   "source": [
    "Lets say we want to access 4. It is in the **1st** row (remember we count from 0 in Python) and in the **0th** column."
   ]
  },
  {
   "cell_type": "code",
   "execution_count": 43,
   "metadata": {},
   "outputs": [
    {
     "data": {
      "text/plain": [
       "4"
      ]
     },
     "execution_count": 43,
     "metadata": {},
     "output_type": "execute_result"
    }
   ],
   "source": [
    "# First specify row number and then column number.\n",
    "array[1][0]"
   ]
  },
  {
   "cell_type": "markdown",
   "metadata": {},
   "source": [
    "#### Excercise\n",
    "1) Access the number 6 in `array`.\n",
    "\n",
    "2) Access the number 11 in `array`."
   ]
  },
  {
   "cell_type": "markdown",
   "metadata": {},
   "source": [
    "What we just did is known as _indexing_. Now what if we want to grab an entire row? We use a technique called [slicing](https://machinelearningmastery.com/index-slice-reshape-numpy-arrays-machine-learning-python/).\n",
    "\n",
    "To grab the 1st row (so [4, 5, 6] in our case), we specify the row and `,` to specify the columns we want from that row. If we leave out `,` we just get the entire row."
   ]
  },
  {
   "cell_type": "code",
   "execution_count": 50,
   "metadata": {},
   "outputs": [
    {
     "data": {
      "text/plain": [
       "array([4, 5, 6])"
      ]
     },
     "execution_count": 50,
     "metadata": {},
     "output_type": "execute_result"
    }
   ],
   "source": [
    "array[1]"
   ]
  },
  {
   "cell_type": "code",
   "execution_count": 52,
   "metadata": {},
   "outputs": [
    {
     "data": {
      "text/plain": [
       "array([4, 5, 6])"
      ]
     },
     "execution_count": 52,
     "metadata": {},
     "output_type": "execute_result"
    }
   ],
   "source": [
    "# This is equivalent to where the left and right of : is empty to grab anything.\n",
    "array[1, :]"
   ]
  },
  {
   "cell_type": "code",
   "execution_count": 55,
   "metadata": {},
   "outputs": [
    {
     "data": {
      "text/plain": [
       "array([5, 6])"
      ]
     },
     "execution_count": 55,
     "metadata": {},
     "output_type": "execute_result"
    }
   ],
   "source": [
    "# What if we want only the 1st and 2nd column. Recall that this will grab the 1st column and 2nd\n",
    "# (but not 3rd because its exclusive)\n",
    "array[1, 1:3]"
   ]
  },
  {
   "cell_type": "code",
   "execution_count": 58,
   "metadata": {},
   "outputs": [
    {
     "data": {
      "text/plain": [
       "array([[1, 2],\n",
       "       [4, 5]])"
      ]
     },
     "execution_count": 58,
     "metadata": {},
     "output_type": "execute_result"
    }
   ],
   "source": [
    "# Grab first 2 rows and first 2 columns.\n",
    "array[0:2, 0:2]"
   ]
  },
  {
   "cell_type": "markdown",
   "metadata": {},
   "source": [
    "#### Excercise\n",
    "\n",
    "Use the `array = np.array([ [1, 2, 3], [4, 5, 6], [7, 8, 9], [10, 11, 12] ])` to work on. Grab the following rows and columns from the array.\n",
    "\n",
    "1) Grab the first 3 rows and first 2 columns.\n",
    "\n",
    "2) Grab the first 3 rows and first column.\n",
    "\n",
    "3) Grab the last 2 rows and last 2 columns."
   ]
  },
  {
   "cell_type": "markdown",
   "metadata": {},
   "source": [
    "# TODO"
   ]
  },
  {
   "cell_type": "markdown",
   "metadata": {},
   "source": [
    "## 3.3 Summary Statistics"
   ]
  },
  {
   "cell_type": "markdown",
   "metadata": {},
   "source": [
    "When you're first given a dataset in data analysis, running some basics analysis to look at things such as summary statistics can go a long way. Here, we will be using the [Scipy](https://scipy-lectures.org/) library, a very popular tool for scientific computing."
   ]
  },
  {
   "cell_type": "code",
   "execution_count": null,
   "metadata": {},
   "outputs": [],
   "source": [
    "import scipy "
   ]
  },
  {
   "cell_type": "markdown",
   "metadata": {},
   "source": [
    "## 3.4 Regressions"
   ]
  },
  {
   "cell_type": "markdown",
   "metadata": {},
   "source": [
    "## 3.5 Real data"
   ]
  },
  {
   "cell_type": "markdown",
   "metadata": {},
   "source": [
    "## 3.6 Introduction to Machine Learning"
   ]
  },
  {
   "cell_type": "code",
   "execution_count": null,
   "metadata": {},
   "outputs": [],
   "source": []
  },
  {
   "cell_type": "code",
   "execution_count": 3,
   "metadata": {},
   "outputs": [],
   "source": [
    "\n",
    "\n",
    "import statsmodels.api as sm\n",
    "import statsmodels.formula.api as smf"
   ]
  },
  {
   "cell_type": "code",
   "execution_count": 4,
   "metadata": {},
   "outputs": [],
   "source": [
    "height = np.array([120, 132, 144, 150])\n",
    "weight = np.array([54, 58, 68, 70])"
   ]
  },
  {
   "cell_type": "code",
   "execution_count": 6,
   "metadata": {},
   "outputs": [
    {
     "name": "stdout",
     "output_type": "stream",
     "text": [
      "                            OLS Regression Results                            \n",
      "==============================================================================\n",
      "Dep. Variable:                      y   R-squared:                       0.999\n",
      "Model:                            OLS   Adj. R-squared:                  0.999\n",
      "Method:                 Least Squares   F-statistic:                     3700.\n",
      "Date:                Sun, 17 Mar 2019   Prob (F-statistic):           9.79e-06\n",
      "Time:                        16:07:29   Log-Likelihood:                -11.119\n",
      "No. Observations:                   4   AIC:                             24.24\n",
      "Df Residuals:                       3   BIC:                             23.62\n",
      "Df Model:                           1                                         \n",
      "Covariance Type:            nonrobust                                         \n",
      "==============================================================================\n",
      "                 coef    std err          t      P>|t|      [0.025      0.975]\n",
      "------------------------------------------------------------------------------\n",
      "x1             2.1784      0.036     60.827      0.000       2.064       2.292\n",
      "==============================================================================\n",
      "Omnibus:                          nan   Durbin-Watson:                   1.796\n",
      "Prob(Omnibus):                    nan   Jarque-Bera (JB):                0.450\n",
      "Skew:                           0.190   Prob(JB):                        0.799\n",
      "Kurtosis:                       1.402   Cond. No.                         1.00\n",
      "==============================================================================\n",
      "\n",
      "Warnings:\n",
      "[1] Standard Errors assume that the covariance matrix of the errors is correctly specified.\n"
     ]
    },
    {
     "name": "stderr",
     "output_type": "stream",
     "text": [
      "/usr/local/lib/python3.7/site-packages/statsmodels/stats/stattools.py:72: ValueWarning: omni_normtest is not valid with less than 8 observations; 4 samples were given.\n",
      "  \"samples were given.\" % int(n), ValueWarning)\n"
     ]
    }
   ],
   "source": [
    "model = sm.OLS(height, weight)\n",
    "print(model.fit().summary())"
   ]
  },
  {
   "cell_type": "code",
   "execution_count": null,
   "metadata": {},
   "outputs": [],
   "source": []
  }
 ],
 "metadata": {
  "kernelspec": {
   "display_name": "Python 3",
   "language": "python",
   "name": "python3"
  },
  "language_info": {
   "codemirror_mode": {
    "name": "ipython",
    "version": 3
   },
   "file_extension": ".py",
   "mimetype": "text/x-python",
   "name": "python",
   "nbconvert_exporter": "python",
   "pygments_lexer": "ipython3",
   "version": "3.7.0"
  }
 },
 "nbformat": 4,
 "nbformat_minor": 2
}
