{
 "cells": [
  {
   "cell_type": "markdown",
   "metadata": {},
   "source": [
    "# Scientific Computing and Modelling in Python Part 1"
   ]
  },
  {
   "cell_type": "markdown",
   "metadata": {},
   "source": [
    "## 3.1 What is data science and modelling?"
   ]
  },
  {
   "cell_type": "markdown",
   "metadata": {},
   "source": [
    "Python is a powerful language that is used for analytics and modelling. A popular language in industry, it is heavily used in the **data science field** and gaining popularity in the econometrics field.\n",
    "\n",
    "So what is data science? Data science is a multi-disciplinary field that uses scientific methods, processes, algorithms and systems to extract knowledge and insights from data in various forms, both structured and unstructured.\n"
   ]
  },
  {
   "cell_type": "markdown",
   "metadata": {},
   "source": [
    "## Setting"
   ]
  },
  {
   "cell_type": "markdown",
   "metadata": {},
   "source": [
    "Just a high level refresher, suppose we had a bunch of data collected on some [Pokemon](https://en.wikipedia.org/wiki/Pok%C3%A9mon). In particular, for each pokemon, we noted down their height and weight. In particular, we had the following observations:\n",
    "\n",
    "- Pikachu: Height-120 and Weight-54\n",
    "- Charmander: Height-132 and Weight-58\n",
    "- Squirtle: Height-144 and Weight-68\n",
    "- Raichu: Height-150 and Weight-70"
   ]
  },
  {
   "cell_type": "markdown",
   "metadata": {},
   "source": [
    "We want to see if there is a **linear relationship** between the age and height of the Pokemon. That is, are the two _features_ for the Pokemon related?\n",
    "\n",
    "More specifically, we want to investigate whether are _taller_ pokemon heavier?\n",
    "\n",
    "Fortunately, using Python, we can investigate this!"
   ]
  },
  {
   "cell_type": "markdown",
   "metadata": {},
   "source": [
    "## 3.2 NumPy Arrays"
   ]
  },
  {
   "cell_type": "markdown",
   "metadata": {},
   "source": [
    "For the rest of this tutorial, we will be using [numpy arrays](https://www.machinelearningplus.com/python/numpy-tutorial-part1-array-python-examples/) rather than lists.\n",
    "\n",
    "#### Remark\n",
    "Why are we now working with numpy arrays rather than lists? A few reasons actually!\n",
    "\n",
    "1) NumPy arrays are alot more efficient than lists. For example, if you had 10 different datasets to work with, storing it in a list of lists would take around 2 MB whilst storing it in a NumPy array would take around 20% of that. This is really important as this means you're laptop/desktop will be able to process the data MUCH faster and more efficiently.\n",
    "\n",
    "2) NumPy arrays are quite similar to vectors in R or matrices in Matlab, hence you'll be able to port alot of the skills you learn here over.\n",
    "\n",
    "3) NumPy arrays allows for vector/matrix operations in a much smoother manner. In general, we have access to more functions that can be useful to us."
   ]
  },
  {
   "cell_type": "markdown",
   "metadata": {},
   "source": [
    "#### Excercise\n",
    "\n",
    "1) Try creating a numpy array of the list `[\"pika pika\", \"bulbasaur\"]`. Does this work?\n",
    "\n",
    "2) Generate a numpy array of every 4th number from 1-100. Recall the range function `range(0, 100, 4)` may help here."
   ]
  },
  {
   "cell_type": "code",
   "execution_count": null,
   "metadata": {},
   "outputs": [],
   "source": [
    "# Code here"
   ]
  },
  {
   "cell_type": "markdown",
   "metadata": {},
   "source": [
    "#### Excercise\n",
    "\n",
    "1) Create a function that takes in two numpy arrays, subtract them from each other and return a numpy array containing the results.\n",
    "\n",
    "2) (Extension) Given two numpy arrays (1 x n) and (n x 1), matrix multiply them together to get a single value. (You might want to Google what does @ in Python do)"
   ]
  },
  {
   "cell_type": "code",
   "execution_count": 1,
   "metadata": {},
   "outputs": [],
   "source": [
    "# Code here\n",
    "# x_one @ x_two"
   ]
  },
  {
   "cell_type": "markdown",
   "metadata": {},
   "source": [
    "#### Excercise\n",
    "Use the `array = np.array([ [1, 2, 3], [4, 5, 6], [7, 8, 9], [10, 11, 12] ])` to work on.\n",
    "1) Access the number 6 in `array`.\n",
    "\n",
    "2) Access the number 11 in `array`."
   ]
  },
  {
   "cell_type": "markdown",
   "metadata": {},
   "source": [
    "#### Excercise\n",
    "\n",
    "Use the `array = np.array([ [1, 2, 3], [4, 5, 6], [7, 8, 9], [10, 11, 12] ])` to work on. Grab the following rows and columns from the array.\n",
    "\n",
    "1) Grab the first 3 rows and first 2 columns.\n",
    "\n",
    "2) Grab the first 3 rows and first column.\n",
    "\n",
    "3) Grab the last 2 rows and last 2 columns."
   ]
  },
  {
   "cell_type": "markdown",
   "metadata": {},
   "source": [
    "## 3.3 Summary Statistics"
   ]
  },
  {
   "cell_type": "markdown",
   "metadata": {},
   "source": [
    "#### Excercise\n",
    "\n",
    "1) Calculate the standard deviation of `fake_data`. Use the function `np.std()` OR a combination of `np.sqrt()` (square roots numbers) and `np.var()`."
   ]
  },
  {
   "cell_type": "markdown",
   "metadata": {},
   "source": [
    "#### Excercise\n",
    "\n",
    "Suppose we had a 5 x 2 matrix. `A = np.array([ [5, 10, 15, 20, 25], [6, 12, 18, 24, 30] ])`.\n",
    "\n",
    "1) Calculate the mean and variance of the first column.\n",
    "\n",
    "2) Do the same thing for the second column."
   ]
  },
  {
   "cell_type": "markdown",
   "metadata": {},
   "source": [
    "## 3.4 Regressions"
   ]
  },
  {
   "cell_type": "markdown",
   "metadata": {},
   "source": [
    "#### Excercise\n",
    "\n",
    "1. Create your own numpy arrays and run your own regressions. Ask for help if needed! Try doing it with 2 or more variables.\n",
    "\n",
    "2. (Extension). If you have done ECMT2160, you would have seen the `logit` regression. Try implementing [it](https://www.statsmodels.org/dev/generated/statsmodels.discrete.discrete_model.Logit.html). Instead of `sm.OLS`, use `sm.Logit` and keep everything else the same."
   ]
  },
  {
   "cell_type": "code",
   "execution_count": null,
   "metadata": {},
   "outputs": [],
   "source": []
  }
 ],
 "metadata": {
  "kernelspec": {
   "display_name": "Python 3",
   "language": "python",
   "name": "python3"
  },
  "language_info": {
   "codemirror_mode": {
    "name": "ipython",
    "version": 3
   },
   "file_extension": ".py",
   "mimetype": "text/x-python",
   "name": "python",
   "nbconvert_exporter": "python",
   "pygments_lexer": "ipython3",
   "version": "3.7.0"
  }
 },
 "nbformat": 4,
 "nbformat_minor": 2
}
