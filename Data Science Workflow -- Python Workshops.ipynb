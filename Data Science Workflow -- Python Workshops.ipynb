{
 "cells": [
  {
   "cell_type": "markdown",
   "metadata": {},
   "source": [
    "# Data Analysis\n",
    "\n",
    "The purpose of this workshop is to 'put the pieces together'. \n",
    "\n",
    "We are going to show you how you can use the skills we have presented to you over the last workshops in order to conduct some real data analysis.\n",
    "\n",
    "## Data Description\n",
    "\n",
    "This data was manually 'scraped' by Chris and Varun as part of their work for the 'ANOVA Project'. It comes from the Facebook events of a list of clubs and societies at the University of Sydney, and was utilised in order to better understand the dynamics behind event attendance so as to better inform clubs and societies about what they should do to maximise attendance at their events.\n",
    "\n",
    "Data scraping is the process of extracting readble information from data sources such as the internet (in our case, Facebook). We could run an entire course on data scraping, it is an extremely useful skill to have and if you are intersted, you can have a look at some examples here:  [Data Scraping Scripts](https://github.com/ANOVAProjectUSYD/USYD-Societies-Events/blob/master/Scripts/)\n",
    "\n",
    "\n",
    "For now, we will just take the data as given"
   ]
  },
  {
   "cell_type": "code",
   "execution_count": null,
   "metadata": {},
   "outputs": [],
   "source": [
    "import pandas as pd"
   ]
  },
  {
   "cell_type": "code",
   "execution_count": 34,
   "metadata": {},
   "outputs": [],
   "source": [
    "#reading the data \n",
    "\n",
    "df = pd.read_csv('https://raw.githubusercontent.com/ANOVAProjectUSYD/USYD-Societies-Events/master/Datasets/final_data_final.csv')"
   ]
  },
  {
   "cell_type": "code",
   "execution_count": 35,
   "metadata": {},
   "outputs": [],
   "source": [
    "#what does the data look like? is it 'clean' or 'messy'\n",
    "\n",
    "df.head()\n",
    "\n",
    "#for simplicity, we are just going to drop all observations which are 'not complete'\n",
    "\n",
    "df = df.dropna()"
   ]
  },
  {
   "cell_type": "code",
   "execution_count": 36,
   "metadata": {},
   "outputs": [
    {
     "data": {
      "image/png": "[encoded data removed]",
      "text/plain": [
       "<Figure size 432x288 with 1 Axes>"
      ]
     },
     "metadata": {
      "needs_background": "light"
     },
     "output_type": "display_data"
    }
   ],
   "source": [
    "# doing some preliminary visualisation\n",
    "\n",
    "import matplotlib.pyplot as plt\n",
    "\n",
    "plt.hist(df['attendance_count'], bins = 20)\n",
    "plt.title(\"Attendance distribution?\")\n",
    "plt.show()"
   ]
  },
  {
   "cell_type": "markdown",
   "metadata": {},
   "source": [
    "# Do events held on campus have a higher average level of attendance than those that are held away from campus?"
   ]
  },
  {
   "cell_type": "markdown",
   "metadata": {},
   "source": [
    "## Visualising the difference "
   ]
  },
  {
   "cell_type": "markdown",
   "metadata": {},
   "source": [
    "We need to create a 'Campus' indicator variable, but how do we define which events are held on campus?\n"
   ]
  },
  {
   "cell_type": "code",
   "execution_count": 24,
   "metadata": {},
   "outputs": [
    {
     "data": {
      "text/plain": [
       "['Society',\n",
       " 'event_name',\n",
       " 'attendance_count',\n",
       " 'interested_count',\n",
       " 'no_reply_count',\n",
       " 'declined_count',\n",
       " 'maybe_count',\n",
       " 'total_invited_count',\n",
       " 'description',\n",
       " 'start_time',\n",
       " 'place',\n",
       " 'city',\n",
       " 'country',\n",
       " 'street',\n",
       " 'zip',\n",
       " 'latitude',\n",
       " 'longitude',\n",
       " 'society_size',\n",
       " 'Start_time',\n",
       " 'Date',\n",
       " 'Campus']"
      ]
     },
     "execution_count": 24,
     "metadata": {},
     "output_type": "execute_result"
    }
   ],
   "source": [
    "list(df)"
   ]
  },
  {
   "cell_type": "code",
   "execution_count": 38,
   "metadata": {},
   "outputs": [],
   "source": [
    "#From the list of columns of the data frame it is apparent that we may be able to use 'zip' as a proxy for\n",
    "# an event being on campus.\n",
    "\n",
    "#the USYD postcode is 2006\n",
    "\n",
    "import numpy as np\n",
    "\n",
    "df['Campus'] = np.where(df['zip'] == 2006, 1, 0)"
   ]
  },
  {
   "cell_type": "code",
   "execution_count": 23,
   "metadata": {},
   "outputs": [
    {
     "data": {
      "text/html": [
       "<div>\n",
       "<style scoped>\n",
       "    .dataframe tbody tr th:only-of-type {\n",
       "        vertical-align: middle;\n",
       "    }\n",
       "\n",
       "    .dataframe tbody tr th {\n",
       "        vertical-align: top;\n",
       "    }\n",
       "\n",
       "    .dataframe thead th {\n",
       "        text-align: right;\n",
       "    }\n",
       "</style>\n",
       "<table border=\"1\" class=\"dataframe\">\n",
       "  <thead>\n",
       "    <tr style=\"text-align: right;\">\n",
       "      <th></th>\n",
       "      <th>zip</th>\n",
       "      <th>Campus</th>\n",
       "    </tr>\n",
       "  </thead>\n",
       "  <tbody>\n",
       "    <tr>\n",
       "      <th>0</th>\n",
       "      <td>2008.0</td>\n",
       "      <td>0</td>\n",
       "    </tr>\n",
       "    <tr>\n",
       "      <th>1</th>\n",
       "      <td>NaN</td>\n",
       "      <td>0</td>\n",
       "    </tr>\n",
       "    <tr>\n",
       "      <th>2</th>\n",
       "      <td>NaN</td>\n",
       "      <td>0</td>\n",
       "    </tr>\n",
       "    <tr>\n",
       "      <th>3</th>\n",
       "      <td>2031.0</td>\n",
       "      <td>0</td>\n",
       "    </tr>\n",
       "    <tr>\n",
       "      <th>4</th>\n",
       "      <td>2006.0</td>\n",
       "      <td>1</td>\n",
       "    </tr>\n",
       "  </tbody>\n",
       "</table>\n",
       "</div>"
      ],
      "text/plain": [
       "      zip  Campus\n",
       "0  2008.0       0\n",
       "1     NaN       0\n",
       "2     NaN       0\n",
       "3  2031.0       0\n",
       "4  2006.0       1"
      ]
     },
     "execution_count": 23,
     "metadata": {},
     "output_type": "execute_result"
    }
   ],
   "source": [
    "#displaying our results:\n",
    "\n",
    "df[['zip', 'Campus']].head()"
   ]
  },
  {
   "cell_type": "markdown",
   "metadata": {},
   "source": [
    "NOTE: it may make more sense to deal with zip codes as strings, we will leave this for now but what would be different about how we create the dummy if they were strings?"
   ]
  },
  {
   "cell_type": "markdown",
   "metadata": {},
   "source": [
    "Now we have an indicator for which events are held on campus. What can we do next? First, let's visualise the histograms of each group."
   ]
  },
  {
   "cell_type": "code",
   "execution_count": 39,
   "metadata": {},
   "outputs": [],
   "source": [
    "campus = df[df['Campus'] == 1]\n",
    "no_campus = df[df['Campus'] == 0]"
   ]
  },
  {
   "cell_type": "code",
   "execution_count": 49,
   "metadata": {},
   "outputs": [
    {
     "data": {
      "image/png": "[encoded data removed]",
      "text/plain": [
       "<Figure size 432x288 with 1 Axes>"
      ]
     },
     "metadata": {
      "needs_background": "light"
     },
     "output_type": "display_data"
    },
    {
     "data": {
      "image/png": "[encoded data removed]",
      "text/plain": [
       "<Figure size 432x288 with 1 Axes>"
      ]
     },
     "metadata": {
      "needs_background": "light"
     },
     "output_type": "display_data"
    }
   ],
   "source": [
    "plt.subplot(2,1,1)\n",
    "plt.hist(campus['attendance_count'], bins = 20)\n",
    "plt.title('Total Attendance (Campus)')\n",
    "plt.show()\n",
    "plt.subplot(2,1,2)\n",
    "plt.title('Total Attendance (Not Campus)')\n",
    "plt.hist(no_campus['attendance_count'], bins = 20)\n",
    "plt.show()"
   ]
  },
  {
   "cell_type": "markdown",
   "metadata": {},
   "source": [
    "It is evident that there may be 'outliers' which are obstructing our analysis. Intuitively, we know that there are a few events which may be extremley popular (e.g. SUBS Ball or Law Ball), however for the most part these are not the events that most socieites are interested in holding. What can we do about outliers?\n",
    "\n",
    "One solution is to leave them out of the analysis, this is problematic in many situations, but for our purposes it seems sensible.\n",
    "\n",
    "First let's see if we can figure out what the 'quantiles' of our data look like \n",
    "\n",
    "NOTE: Quantiles are the points associated with particular densities of observations. Eg. the 0.80 quantile is the point $q$ where $Pr(X < q) = 0.8$."
   ]
  },
  {
   "cell_type": "code",
   "execution_count": 56,
   "metadata": {},
   "outputs": [
    {
     "name": "stdout",
     "output_type": "stream",
     "text": [
      "221.54999999999984\n"
     ]
    }
   ],
   "source": [
    "#restricting outliers\n",
    "\n",
    "\n",
    "#finding quantile of the data (for a given density)\n",
    "quantile80 = df['attendance_count'].quantile(0.85)\n",
    "print(quantile80)\n",
    "\n",
    "\n"
   ]
  },
  {
   "cell_type": "markdown",
   "metadata": {},
   "source": [
    "Suppose we want to find the quantiles associated with the densities 0.25, 0.5, 0.75 and 0.95. Can you think of a for loop that will print these results?"
   ]
  },
  {
   "cell_type": "code",
   "execution_count": 58,
   "metadata": {},
   "outputs": [
    {
     "name": "stdout",
     "output_type": "stream",
     "text": [
      "21.0\n",
      "57.0\n",
      "128.75\n",
      "474.0499999999995\n"
     ]
    }
   ],
   "source": [
    "#finding 0.25, 0.5, 0.75, 0.95 quantiles\n",
    "\n",
    "densities = [0.25, 0.5, 0.75, 0.95]\n",
    "\n",
    "for i in range(0, len(densities)):\n",
    "    y = df['attendance_count'].quantile(densities[i])\n",
    "    print(y)\n"
   ]
  },
  {
   "cell_type": "code",
   "execution_count": 61,
   "metadata": {},
   "outputs": [],
   "source": [
    "restricted_campus = campus[campus['attendance_count'] < 128]\n",
    "restricted_no_campus = no_campus[no_campus['attendance_count'] < 128]"
   ]
  },
  {
   "cell_type": "code",
   "execution_count": 62,
   "metadata": {},
   "outputs": [
    {
     "data": {
      "image/png": "[encoded data removed]",
      "text/plain": [
       "<Figure size 432x288 with 1 Axes>"
      ]
     },
     "metadata": {
      "needs_background": "light"
     },
     "output_type": "display_data"
    },
    {
     "data": {
      "image/png": "[encoded data removed]",
      "text/plain": [
       "<Figure size 432x288 with 1 Axes>"
      ]
     },
     "metadata": {
      "needs_background": "light"
     },
     "output_type": "display_data"
    }
   ],
   "source": [
    "plt.subplot(2,1,1)\n",
    "plt.hist(restricted_campus['attendance_count'], bins = 20)\n",
    "plt.title('Total Attendance (Campus)')\n",
    "plt.show()\n",
    "plt.subplot(2,1,2)\n",
    "plt.title('Total Attendance (Not Campus)')\n",
    "plt.hist(restricted_no_campus['attendance_count'], bins = 20)\n",
    "plt.show()"
   ]
  },
  {
   "cell_type": "markdown",
   "metadata": {},
   "source": [
    "## Testing the difference"
   ]
  },
  {
   "cell_type": "markdown",
   "metadata": {},
   "source": [
    "Good data analysis is a mix of heuristics and empirical analysis. We can gain some deep insights from visualising the data, however in order to make any claims, we want to be sure that our initial findings are supported by some more rigourous analysis. \n",
    "\n",
    "We are going to use a linear regression set up to test the difference in attendance between the events held on campus and off campus. We can of course do this in other ways, but seeing as we introduced linear regression in Python earlier in the course, it makes sense to use this method.\n",
    "\n",
    "We are interested in a statistical model of the following form where, for completeness we will assume that $\\epsilon_i \\sim N(0, \\sigma^2)$. This is a very classic set up"
   ]
  },
  {
   "cell_type": "markdown",
   "metadata": {},
   "source": [
    "$$attendance\\_count_i = \\beta_0 = \\beta_1 \\times Campus_i + \\epsilon_i $$"
   ]
  },
  {
   "cell_type": "code",
   "execution_count": 66,
   "metadata": {},
   "outputs": [
    {
     "name": "stdout",
     "output_type": "stream",
     "text": [
      "                            OLS Regression Results                            \n",
      "==============================================================================\n",
      "Dep. Variable:                      y   R-squared:                       0.034\n",
      "Model:                            OLS   Adj. R-squared:                  0.032\n",
      "Method:                 Least Squares   F-statistic:                     17.03\n",
      "Date:                Sun, 07 Apr 2019   Prob (F-statistic):           4.32e-05\n",
      "Time:                        21:54:34   Log-Likelihood:                -376.44\n",
      "No. Observations:                 490   AIC:                             754.9\n",
      "Df Residuals:                     489   BIC:                             759.1\n",
      "Df Model:                           1                                         \n",
      "Covariance Type:            nonrobust                                         \n",
      "==============================================================================\n",
      "                 coef    std err          t      P>|t|      [0.025      0.975]\n",
      "------------------------------------------------------------------------------\n",
      "x1             0.0004      0.000      4.127      0.000       0.000       0.001\n",
      "==============================================================================\n",
      "Omnibus:                      156.956   Durbin-Watson:                   0.847\n",
      "Prob(Omnibus):                  0.000   Jarque-Bera (JB):               87.109\n",
      "Skew:                           0.899   Prob(JB):                     1.21e-19\n",
      "Kurtosis:                       1.984   Cond. No.                         1.00\n",
      "==============================================================================\n",
      "\n",
      "Warnings:\n",
      "[1] Standard Errors assume that the covariance matrix of the errors is correctly specified.\n"
     ]
    }
   ],
   "source": [
    "import statsmodels.api as sm\n",
    "\n",
    "\n",
    "#creating the variables for convenience\n",
    "X = np.array(df['Campus'])\n",
    "y = np.array(df['attendance_count'])\n",
    "\n",
    "#adding a constant \n",
    "X_const = sm.add_constant(X)\n",
    "\n",
    "#constructing the model\n",
    "model = sm.OLS(X, y)\n",
    "\n",
    "#'fitting' the model\n",
    "model_result = model.fit()\n",
    "\n",
    "#printing results\n",
    "print(model_result.summary())"
   ]
  },
  {
   "cell_type": "markdown",
   "metadata": {},
   "source": [
    "### Do our results indicate there there is a significant difference between events held on campus and off campus? Discuss"
   ]
  }
 ],
 "metadata": {
  "kernelspec": {
   "display_name": "Python 3",
   "language": "python",
   "name": "python3"
  },
  "language_info": {
   "codemirror_mode": {
    "name": "ipython",
    "version": 3
   },
   "file_extension": ".py",
   "mimetype": "text/x-python",
   "name": "python",
   "nbconvert_exporter": "python",
   "pygments_lexer": "ipython3",
   "version": "3.7.2"
  }
 },
 "nbformat": 4,
 "nbformat_minor": 2
}
